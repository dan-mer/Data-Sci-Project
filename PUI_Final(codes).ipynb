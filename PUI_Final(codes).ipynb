{
  "cells": [
    {
      "cell_type": "markdown",
      "metadata": {
        "id": "5AxWSMdGsBqp"
      },
      "source": [
        "### Group Members: Danna Alamer, Frederico Levy, Soobin Lim\n",
        "\n",
        "Principle of Urban Informaticm, Section 001 \n",
        "# **Measuring the Impact of the New Brooklyn Bridge Bike Path** \n",
        "\n",
        "\n",
        "On September 14th, 2021, the New York City Department of Transportation inaugurated a new bike lane on the Brooklyn Bridge. The new lane is bound to change mobility patterns in Brooklyn and Southern Manhattan.\n",
        "\n",
        "\n",
        "\n",
        "Studying how key pieces of bicycle infrastructure affect mobility patterns in cities is essential to better direct future investment. The analysis shall study shifts in mobility patterns and better understand the implementation of key pieces of bicycle infrastructure mobility in New York City. \n",
        "\n",
        "For this project we will be using data collection for Citibike to statistically analyze (distribution analysis, fit distribution, empirical distribution) to analyze bicycle mobility between certain areas in the city. \n",
        "\n",
        "\n"
      ]
    },
    {
      "cell_type": "code",
      "execution_count": null,
      "metadata": {
        "colab": {
          "base_uri": "https://localhost:8080/"
        },
        "id": "LBalGBEW-2t7",
        "outputId": "c0a282ac-8f29-4947-d331-0e155f713e2e"
      },
      "outputs": [
        {
          "output_type": "stream",
          "name": "stdout",
          "text": [
            "Drive already mounted at /content/drive; to attempt to forcibly remount, call drive.mount(\"/content/drive\", force_remount=True).\n"
          ]
        }
      ],
      "source": [
        "#import all the libraries\n",
        "import numpy as np\n",
        "from scipy import stats\n",
        "import pandas as pd\n",
        "import matplotlib.pyplot as plt\n",
        "import geopandas as gpd\n",
        "import seaborn as sns\n",
        "import json\n",
        "import requests\n",
        "from shapely.geometry import Point\n",
        "from google.colab import drive\n",
        "from sklearn.linear_model import LinearRegression\n",
        "from scipy.stats import norm #normal\n",
        "from scipy.stats import genextreme as gev #generalized extreme value\n",
        "from scipy.stats import pareto #pareto\n",
        "import datetime as dt\n",
        "\n",
        "drive.mount('/content/drive')"
      ]
    },
    {
      "cell_type": "markdown",
      "source": [
        "## Research Questions:\n",
        "1. Since the inauguration of the new bike lane, has ridership increased over the bridge?\n",
        "2.  Has there been a change in the absolute number of bicycle trips across the Brooklyn, Manhattan and Williamsburg bridges?\n",
        "3. Is there a correlation between the distance of a Citi Bike station to the Brooklyn Bridge and how frequently it is used?\n",
        "4. Has there been a shift in bicycle mobility patterns around the bridges?\n",
        "5. Has there been a change in public trasportation traffic volume in the three bridges?\n",
        "6. Has the air pollution been reduced when bicycles were commonly used in the bridges areas?\n",
        "\n"
      ],
      "metadata": {
        "id": "Q5_W-YnKRXOt"
      }
    },
    {
      "cell_type": "code",
      "source": [
        ""
      ],
      "metadata": {
        "id": "wVV3K0raTshF"
      },
      "execution_count": null,
      "outputs": []
    },
    {
      "cell_type": "markdown",
      "metadata": {
        "id": "71IoiLzT9WTp"
      },
      "source": [
        "### 1. Since the inauguration of the new bike lane, has ridership increased over the bridge?"
      ]
    },
    {
      "cell_type": "code",
      "execution_count": null,
      "metadata": {
        "colab": {
          "base_uri": "https://localhost:8080/",
          "height": 204
        },
        "id": "0kBMWmdt-RC7",
        "outputId": "f6737011-9b36-4c97-878f-b71e8f5f4124"
      },
      "outputs": [
        {
          "output_type": "execute_result",
          "data": {
            "text/html": [
              "<div>\n",
              "<style scoped>\n",
              "    .dataframe tbody tr th:only-of-type {\n",
              "        vertical-align: middle;\n",
              "    }\n",
              "\n",
              "    .dataframe tbody tr th {\n",
              "        vertical-align: top;\n",
              "    }\n",
              "\n",
              "    .dataframe thead th {\n",
              "        text-align: right;\n",
              "    }\n",
              "</style>\n",
              "<table border=\"1\" class=\"dataframe\">\n",
              "  <thead>\n",
              "    <tr style=\"text-align: right;\">\n",
              "      <th></th>\n",
              "      <th>Count Year</th>\n",
              "      <th>Brooklyn Bridge</th>\n",
              "      <th>Manhattan Bridge</th>\n",
              "      <th>Williamsburg Bridge</th>\n",
              "      <th>Ed Koch Queensboro Bridge</th>\n",
              "      <th>Grand Total</th>\n",
              "    </tr>\n",
              "  </thead>\n",
              "  <tbody>\n",
              "    <tr>\n",
              "      <th>0</th>\n",
              "      <td>1980</td>\n",
              "      <td>866</td>\n",
              "      <td>NaN</td>\n",
              "      <td>221</td>\n",
              "      <td>548</td>\n",
              "      <td>1,635</td>\n",
              "    </tr>\n",
              "    <tr>\n",
              "      <th>1</th>\n",
              "      <td>1985</td>\n",
              "      <td>1,269</td>\n",
              "      <td>NaN</td>\n",
              "      <td>594</td>\n",
              "      <td>1,209</td>\n",
              "      <td>3,072</td>\n",
              "    </tr>\n",
              "    <tr>\n",
              "      <th>2</th>\n",
              "      <td>1986</td>\n",
              "      <td>2,144</td>\n",
              "      <td>NaN</td>\n",
              "      <td>636</td>\n",
              "      <td>1,243</td>\n",
              "      <td>4,023</td>\n",
              "    </tr>\n",
              "    <tr>\n",
              "      <th>3</th>\n",
              "      <td>1987</td>\n",
              "      <td>2,270</td>\n",
              "      <td>NaN</td>\n",
              "      <td>557</td>\n",
              "      <td>695</td>\n",
              "      <td>3,523</td>\n",
              "    </tr>\n",
              "    <tr>\n",
              "      <th>4</th>\n",
              "      <td>1988</td>\n",
              "      <td>1,374</td>\n",
              "      <td>NaN</td>\n",
              "      <td>427</td>\n",
              "      <td>526</td>\n",
              "      <td>2,327</td>\n",
              "    </tr>\n",
              "  </tbody>\n",
              "</table>\n",
              "</div>"
            ],
            "text/plain": [
              "  Count Year Brooklyn Bridge  ... Ed Koch Queensboro Bridge Grand Total\n",
              "0       1980             866  ...                       548       1,635\n",
              "1       1985           1,269  ...                     1,209       3,072\n",
              "2       1986           2,144  ...                     1,243       4,023\n",
              "3       1987           2,270  ...                       695       3,523\n",
              "4       1988           1,374  ...                       526       2,327\n",
              "\n",
              "[5 rows x 6 columns]"
            ]
          },
          "metadata": {},
          "execution_count": 8
        }
      ],
      "source": [
        "# read a file\n",
        "df = pd.read_csv('/content/drive/MyDrive/PUI_project/data/ridershipCounts.csv')\n",
        "df.head()\n",
        "\n"
      ]
    },
    {
      "cell_type": "code",
      "source": [
        " # extract 2019 - 2021 data for comparison\n",
        "yr = df[df['Count Year'] > '2019']\n",
        "yr.head()"
      ],
      "metadata": {
        "id": "Neh3sgOpCNhJ",
        "colab": {
          "base_uri": "https://localhost:8080/",
          "height": 204
        },
        "outputId": "30148208-4cc3-42c1-af19-a611b6e07d4b"
      },
      "execution_count": null,
      "outputs": [
        {
          "output_type": "execute_result",
          "data": {
            "text/html": [
              "<div>\n",
              "<style scoped>\n",
              "    .dataframe tbody tr th:only-of-type {\n",
              "        vertical-align: middle;\n",
              "    }\n",
              "\n",
              "    .dataframe tbody tr th {\n",
              "        vertical-align: top;\n",
              "    }\n",
              "\n",
              "    .dataframe thead th {\n",
              "        text-align: right;\n",
              "    }\n",
              "</style>\n",
              "<table border=\"1\" class=\"dataframe\">\n",
              "  <thead>\n",
              "    <tr style=\"text-align: right;\">\n",
              "      <th></th>\n",
              "      <th>Count Year</th>\n",
              "      <th>Brooklyn Bridge</th>\n",
              "      <th>Manhattan Bridge</th>\n",
              "      <th>Williamsburg Bridge</th>\n",
              "      <th>Ed Koch Queensboro Bridge</th>\n",
              "      <th>Grand Total</th>\n",
              "    </tr>\n",
              "  </thead>\n",
              "  <tbody>\n",
              "    <tr>\n",
              "      <th>36</th>\n",
              "      <td>2019 (avg.)</td>\n",
              "      <td>2,558</td>\n",
              "      <td>6,008</td>\n",
              "      <td>7,089</td>\n",
              "      <td>4,968</td>\n",
              "      <td>20,624</td>\n",
              "    </tr>\n",
              "    <tr>\n",
              "      <th>37</th>\n",
              "      <td>April</td>\n",
              "      <td>2,318</td>\n",
              "      <td>5,495</td>\n",
              "      <td>5,729</td>\n",
              "      <td>4,048</td>\n",
              "      <td>17,590</td>\n",
              "    </tr>\n",
              "    <tr>\n",
              "      <th>38</th>\n",
              "      <td>May</td>\n",
              "      <td>2,589</td>\n",
              "      <td>6,031</td>\n",
              "      <td>7,384</td>\n",
              "      <td>4,984</td>\n",
              "      <td>20,988</td>\n",
              "    </tr>\n",
              "    <tr>\n",
              "      <th>39</th>\n",
              "      <td>June</td>\n",
              "      <td>2,716</td>\n",
              "      <td>6,334</td>\n",
              "      <td>7,770</td>\n",
              "      <td>5,319</td>\n",
              "      <td>22,139</td>\n",
              "    </tr>\n",
              "    <tr>\n",
              "      <th>40</th>\n",
              "      <td>July</td>\n",
              "      <td>2,607</td>\n",
              "      <td>6,099</td>\n",
              "      <td>7,159</td>\n",
              "      <td>5,270</td>\n",
              "      <td>21,135</td>\n",
              "    </tr>\n",
              "  </tbody>\n",
              "</table>\n",
              "</div>"
            ],
            "text/plain": [
              "     Count Year Brooklyn Bridge  ... Ed Koch Queensboro Bridge Grand Total\n",
              "36  2019 (avg.)           2,558  ...                     4,968      20,624\n",
              "37        April           2,318  ...                     4,048      17,590\n",
              "38          May           2,589  ...                     4,984      20,988\n",
              "39         June           2,716  ...                     5,319      22,139\n",
              "40         July           2,607  ...                     5,270      21,135\n",
              "\n",
              "[5 rows x 6 columns]"
            ]
          },
          "metadata": {},
          "execution_count": 9
        }
      ]
    },
    {
      "cell_type": "code",
      "source": [
        " # extract 2019 - 2021 data for comparison\n",
        "year = ['April', 'May', 'June', 'July', 'August', 'September', 'October']\n",
        "data = yr.loc[yr['Count Year'].isin(year)] "
      ],
      "metadata": {
        "id": "Y9Zr7eyNqJga"
      },
      "execution_count": null,
      "outputs": []
    },
    {
      "cell_type": "code",
      "source": [
        "# visualize Brooklyn Bridge Ridership Counts in 2019 - 2021\n",
        "plt.figure(figsize=(8,5))\n",
        "x = np.arange(7)\n",
        "yr19 = [2318, 2589, 2716, 2607, 2528, 2654, 2492]\n",
        "yr20 = [866, 1592, 2106, 2059, 2197, 2336, 2239]\n",
        "yr21 = [1766, 2369, 2529, 2074, 1986, 3635, 4206]\n",
        "width = 0.2\n",
        "  \n",
        "# plot data in grouped manner of bar type\n",
        "plt.bar(x - 0.2, yr19, width)\n",
        "plt.bar(x, yr20, width)\n",
        "plt.bar(x + 0.2, yr21, width)\n",
        "plt.xticks(x, ['April', 'May', 'June', 'July', 'August', 'September', 'October'])\n",
        "plt.xlabel(\"Month\")\n",
        "plt.ylabel(\"Ridership\")\n",
        "plt.legend([\"2019\", \"2020\", \"2021\"])\n",
        "plt.title('Brooklyn Bridge Monthly Ridership Counts in 2019 - 2021')\n",
        "plt.show()"
      ],
      "metadata": {
        "id": "_sqsUltsCP7o",
        "colab": {
          "base_uri": "https://localhost:8080/",
          "height": 350
        },
        "outputId": "b8a61e58-67b3-40a8-8919-dd5d7b782dcb"
      },
      "execution_count": null,
      "outputs": [
        {
          "output_type": "display_data",
          "data": {
            "image/png": "[encoded data removed]",
            "text/plain": [
              "<Figure size 576x360 with 1 Axes>"
            ]
          },
          "metadata": {
            "needs_background": "light"
          }
        }
      ]
    },
    {
      "cell_type": "code",
      "source": [
        "# Average ridership from 2019 to 2021 \n",
        "average_ridership = ['2019 (avg.)', '2020 (avg.)', '2021']\n",
        "data = df.loc[df['Count Year'].isin(average_ridership)]\n",
        "data.head()"
      ],
      "metadata": {
        "colab": {
          "base_uri": "https://localhost:8080/",
          "height": 142
        },
        "id": "XIQ8BfdoqQA_",
        "outputId": "6ed5b7b2-9a19-4de7-e22f-34433d2db7d0"
      },
      "execution_count": null,
      "outputs": [
        {
          "output_type": "execute_result",
          "data": {
            "text/html": [
              "<div>\n",
              "<style scoped>\n",
              "    .dataframe tbody tr th:only-of-type {\n",
              "        vertical-align: middle;\n",
              "    }\n",
              "\n",
              "    .dataframe tbody tr th {\n",
              "        vertical-align: top;\n",
              "    }\n",
              "\n",
              "    .dataframe thead th {\n",
              "        text-align: right;\n",
              "    }\n",
              "</style>\n",
              "<table border=\"1\" class=\"dataframe\">\n",
              "  <thead>\n",
              "    <tr style=\"text-align: right;\">\n",
              "      <th></th>\n",
              "      <th>Count Year</th>\n",
              "      <th>Brooklyn Bridge</th>\n",
              "      <th>Manhattan Bridge</th>\n",
              "      <th>Williamsburg Bridge</th>\n",
              "      <th>Ed Koch Queensboro Bridge</th>\n",
              "      <th>Grand Total</th>\n",
              "    </tr>\n",
              "  </thead>\n",
              "  <tbody>\n",
              "    <tr>\n",
              "      <th>36</th>\n",
              "      <td>2019 (avg.)</td>\n",
              "      <td>2,558</td>\n",
              "      <td>6,008</td>\n",
              "      <td>7,089</td>\n",
              "      <td>4,968</td>\n",
              "      <td>20,624</td>\n",
              "    </tr>\n",
              "    <tr>\n",
              "      <th>45</th>\n",
              "      <td>2020 (avg.)</td>\n",
              "      <td>1,914</td>\n",
              "      <td>5,449</td>\n",
              "      <td>7,624</td>\n",
              "      <td>6,267</td>\n",
              "      <td>21,254</td>\n",
              "    </tr>\n",
              "    <tr>\n",
              "      <th>54</th>\n",
              "      <td>2021</td>\n",
              "      <td>2,652</td>\n",
              "      <td>6,444</td>\n",
              "      <td>7,860</td>\n",
              "      <td>6,463</td>\n",
              "      <td>23,419</td>\n",
              "    </tr>\n",
              "  </tbody>\n",
              "</table>\n",
              "</div>"
            ],
            "text/plain": [
              "     Count Year Brooklyn Bridge  ... Ed Koch Queensboro Bridge Grand Total\n",
              "36  2019 (avg.)           2,558  ...                     4,968      20,624\n",
              "45  2020 (avg.)           1,914  ...                     6,267      21,254\n",
              "54         2021           2,652  ...                     6,463      23,419\n",
              "\n",
              "[3 rows x 6 columns]"
            ]
          },
          "metadata": {},
          "execution_count": 12
        }
      ]
    },
    {
      "cell_type": "code",
      "source": [
        "# visualize the average ridership in Brooklyn Bridge from 2019 to 2021\n",
        "plt.figure(figsize=(8,5))\n",
        "\n",
        "plt.bar(average_ridership, data['Brooklyn Bridge'])\n",
        "plt.title('Average ridership in Brooklyn from 2019 to 2021')\n",
        "plt.xlabel(\"Year\", fontsize=14)\n",
        "plt.ylabel(\"Ridership\", fontsize=14)\n",
        "plt.show()"
      ],
      "metadata": {
        "colab": {
          "base_uri": "https://localhost:8080/",
          "height": 354
        },
        "id": "Zv303yh2qTQF",
        "outputId": "242b4ba7-9c30-44b4-adaa-1a11e01ffc32"
      },
      "execution_count": null,
      "outputs": [
        {
          "output_type": "display_data",
          "data": {
            "image/png": "[encoded data removed]",
            "text/plain": [
              "<Figure size 576x360 with 1 Axes>"
            ]
          },
          "metadata": {
            "needs_background": "light"
          }
        }
      ]
    },
    {
      "cell_type": "markdown",
      "metadata": {
        "id": "Sa2bVv6R9iS5"
      },
      "source": [
        "### 2. Has there been a change in the absolute number of bicycle trips across the Brooklyn, Manhattan and Williamsburg bridges? "
      ]
    },
    {
      "cell_type": "code",
      "execution_count": null,
      "metadata": {
        "colab": {
          "base_uri": "https://localhost:8080/",
          "height": 204
        },
        "id": "l2VMlq2a-Roh",
        "outputId": "d544d3d0-574c-4ae8-8f39-ff60df09eea3"
      },
      "outputs": [
        {
          "output_type": "execute_result",
          "data": {
            "text/html": [
              "<div>\n",
              "<style scoped>\n",
              "    .dataframe tbody tr th:only-of-type {\n",
              "        vertical-align: middle;\n",
              "    }\n",
              "\n",
              "    .dataframe tbody tr th {\n",
              "        vertical-align: top;\n",
              "    }\n",
              "\n",
              "    .dataframe thead th {\n",
              "        text-align: right;\n",
              "    }\n",
              "</style>\n",
              "<table border=\"1\" class=\"dataframe\">\n",
              "  <thead>\n",
              "    <tr style=\"text-align: right;\">\n",
              "      <th></th>\n",
              "      <th>Count Year</th>\n",
              "      <th>Brooklyn Bridge</th>\n",
              "      <th>Manhattan Bridge</th>\n",
              "      <th>Williamsburg Bridge</th>\n",
              "      <th>Ed Koch Queensboro Bridge</th>\n",
              "      <th>Grand Total</th>\n",
              "    </tr>\n",
              "  </thead>\n",
              "  <tbody>\n",
              "    <tr>\n",
              "      <th>0</th>\n",
              "      <td>1980</td>\n",
              "      <td>866</td>\n",
              "      <td>NaN</td>\n",
              "      <td>221</td>\n",
              "      <td>548</td>\n",
              "      <td>1,635</td>\n",
              "    </tr>\n",
              "    <tr>\n",
              "      <th>1</th>\n",
              "      <td>1985</td>\n",
              "      <td>1,269</td>\n",
              "      <td>NaN</td>\n",
              "      <td>594</td>\n",
              "      <td>1,209</td>\n",
              "      <td>3,072</td>\n",
              "    </tr>\n",
              "    <tr>\n",
              "      <th>2</th>\n",
              "      <td>1986</td>\n",
              "      <td>2,144</td>\n",
              "      <td>NaN</td>\n",
              "      <td>636</td>\n",
              "      <td>1,243</td>\n",
              "      <td>4,023</td>\n",
              "    </tr>\n",
              "    <tr>\n",
              "      <th>3</th>\n",
              "      <td>1987</td>\n",
              "      <td>2,270</td>\n",
              "      <td>NaN</td>\n",
              "      <td>557</td>\n",
              "      <td>695</td>\n",
              "      <td>3,523</td>\n",
              "    </tr>\n",
              "    <tr>\n",
              "      <th>4</th>\n",
              "      <td>1988</td>\n",
              "      <td>1,374</td>\n",
              "      <td>NaN</td>\n",
              "      <td>427</td>\n",
              "      <td>526</td>\n",
              "      <td>2,327</td>\n",
              "    </tr>\n",
              "  </tbody>\n",
              "</table>\n",
              "</div>"
            ],
            "text/plain": [
              "  Count Year Brooklyn Bridge  ... Ed Koch Queensboro Bridge Grand Total\n",
              "0       1980             866  ...                       548       1,635\n",
              "1       1985           1,269  ...                     1,209       3,072\n",
              "2       1986           2,144  ...                     1,243       4,023\n",
              "3       1987           2,270  ...                       695       3,523\n",
              "4       1988           1,374  ...                       526       2,327\n",
              "\n",
              "[5 rows x 6 columns]"
            ]
          },
          "metadata": {},
          "execution_count": 14
        }
      ],
      "source": [
        "\n",
        "rider = pd.read_csv('/content/drive/MyDrive/PUI_project/data/ridershipCounts.csv')\n",
        "rider.head()\n",
        "\n"
      ]
    },
    {
      "cell_type": "code",
      "execution_count": null,
      "metadata": {
        "colab": {
          "base_uri": "https://localhost:8080/"
        },
        "id": "yGB8bO2GRnj9",
        "outputId": "03906385-25e6-4399-a9a8-0e6d023a618b"
      },
      "outputs": [
        {
          "output_type": "execute_result",
          "data": {
            "text/plain": [
              "Count Year                   True\n",
              "Brooklyn Bridge              True\n",
              "Manhattan Bridge             True\n",
              "Williamsburg Bridge          True\n",
              "Ed Koch Queensboro Bridge    True\n",
              "Grand Total                  True\n",
              "dtype: bool"
            ]
          },
          "metadata": {},
          "execution_count": 15
        }
      ],
      "source": [
        "rider.isna().any()"
      ]
    },
    {
      "cell_type": "code",
      "execution_count": null,
      "metadata": {
        "id": "CIWdolUmRtu-"
      },
      "outputs": [],
      "source": [
        "# dropping the rows with NaN values\n",
        "for c in rider.columns:\n",
        "    rider.dropna(subset = [c], inplace=True)"
      ]
    },
    {
      "cell_type": "code",
      "source": [
        "rider.head()"
      ],
      "metadata": {
        "colab": {
          "base_uri": "https://localhost:8080/",
          "height": 204
        },
        "id": "1OOpS9_aHggv",
        "outputId": "1c080c7c-4d63-4915-e5c0-c63db25bea57"
      },
      "execution_count": null,
      "outputs": [
        {
          "output_type": "execute_result",
          "data": {
            "text/html": [
              "<div>\n",
              "<style scoped>\n",
              "    .dataframe tbody tr th:only-of-type {\n",
              "        vertical-align: middle;\n",
              "    }\n",
              "\n",
              "    .dataframe tbody tr th {\n",
              "        vertical-align: top;\n",
              "    }\n",
              "\n",
              "    .dataframe thead th {\n",
              "        text-align: right;\n",
              "    }\n",
              "</style>\n",
              "<table border=\"1\" class=\"dataframe\">\n",
              "  <thead>\n",
              "    <tr style=\"text-align: right;\">\n",
              "      <th></th>\n",
              "      <th>Count Year</th>\n",
              "      <th>Brooklyn Bridge</th>\n",
              "      <th>Manhattan Bridge</th>\n",
              "      <th>Williamsburg Bridge</th>\n",
              "      <th>Ed Koch Queensboro Bridge</th>\n",
              "      <th>Grand Total</th>\n",
              "    </tr>\n",
              "  </thead>\n",
              "  <tbody>\n",
              "    <tr>\n",
              "      <th>29</th>\n",
              "      <td>2013</td>\n",
              "      <td>3418</td>\n",
              "      <td>5678</td>\n",
              "      <td>7597</td>\n",
              "      <td>4243</td>\n",
              "      <td>20935</td>\n",
              "    </tr>\n",
              "    <tr>\n",
              "      <th>30</th>\n",
              "      <td>2014</td>\n",
              "      <td>3423</td>\n",
              "      <td>6166</td>\n",
              "      <td>7192</td>\n",
              "      <td>4855</td>\n",
              "      <td>21635</td>\n",
              "    </tr>\n",
              "    <tr>\n",
              "      <th>31</th>\n",
              "      <td>2015</td>\n",
              "      <td>3435</td>\n",
              "      <td>6233</td>\n",
              "      <td>7290</td>\n",
              "      <td>5178</td>\n",
              "      <td>22126</td>\n",
              "    </tr>\n",
              "    <tr>\n",
              "      <th>32</th>\n",
              "      <td>2016</td>\n",
              "      <td>3640</td>\n",
              "      <td>6203</td>\n",
              "      <td>7580</td>\n",
              "      <td>5203</td>\n",
              "      <td>22626</td>\n",
              "    </tr>\n",
              "    <tr>\n",
              "      <th>33</th>\n",
              "      <td>2017</td>\n",
              "      <td>3157</td>\n",
              "      <td>6573</td>\n",
              "      <td>7272</td>\n",
              "      <td>5406</td>\n",
              "      <td>22408</td>\n",
              "    </tr>\n",
              "  </tbody>\n",
              "</table>\n",
              "</div>"
            ],
            "text/plain": [
              "    Count Year  Brooklyn Bridge  ...  Ed Koch Queensboro Bridge  Grand Total\n",
              "29        2013             3418  ...                       4243        20935\n",
              "30        2014             3423  ...                       4855        21635\n",
              "31        2015             3435  ...                       5178        22126\n",
              "32        2016             3640  ...                       5203        22626\n",
              "33        2017             3157  ...                       5406        22408\n",
              "\n",
              "[5 rows x 6 columns]"
            ]
          },
          "metadata": {},
          "execution_count": 41
        }
      ]
    },
    {
      "cell_type": "code",
      "source": [
        "# Removing the (avg.) text from certain cells in the data\n",
        "rider['Count Year'] = rider['Count Year'].map(lambda x: x.lstrip('').rstrip('(avg.)'))"
      ],
      "metadata": {
        "id": "3K3ZjmpzHgre"
      },
      "execution_count": null,
      "outputs": []
    },
    {
      "cell_type": "code",
      "source": [
        "# Keeping only the rows with year number\n",
        "rider = rider[rider['Count Year'] != 'April']\n",
        "rider = rider[rider['Count Year'] != 'May']\n",
        "rider = rider[rider['Count Year'] != 'June']\n",
        "rider = rider[rider['Count Year'] != 'July']\n",
        "rider = rider[rider['Count Year'] != 'August']\n",
        "rider = rider[rider['Count Year'] != 'September']\n",
        "rider = rider[rider['Count Year'] != 'October']"
      ],
      "metadata": {
        "id": "U6ArYK1PHoeV"
      },
      "execution_count": null,
      "outputs": []
    },
    {
      "cell_type": "code",
      "source": [
        "rider.info()"
      ],
      "metadata": {
        "colab": {
          "base_uri": "https://localhost:8080/"
        },
        "id": "9TlJYt1KHoiO",
        "outputId": "0861f8c9-7749-43e6-c6ac-d2ee6444fd15"
      },
      "execution_count": null,
      "outputs": [
        {
          "output_type": "stream",
          "name": "stdout",
          "text": [
            "<class 'pandas.core.frame.DataFrame'>\n",
            "Int64Index: 21 entries, 17 to 54\n",
            "Data columns (total 6 columns):\n",
            " #   Column                     Non-Null Count  Dtype \n",
            "---  ------                     --------------  ----- \n",
            " 0   Count Year                 21 non-null     object\n",
            " 1   Brooklyn Bridge            21 non-null     object\n",
            " 2   Manhattan Bridge           21 non-null     object\n",
            " 3   Williamsburg Bridge        21 non-null     object\n",
            " 4   Ed Koch Queensboro Bridge  21 non-null     object\n",
            " 5   Grand Total                21 non-null     object\n",
            "dtypes: object(6)\n",
            "memory usage: 1.1+ KB\n"
          ]
        }
      ]
    },
    {
      "cell_type": "code",
      "source": [
        "# Removing the comma from certain cells in the data to be able to conver the numbers in the columns to numeric\n",
        "rider = rider.replace(',','', regex=True)"
      ],
      "metadata": {
        "id": "7UpUvRqhHokc"
      },
      "execution_count": null,
      "outputs": []
    },
    {
      "cell_type": "code",
      "source": [
        "# Converting the values in the data to numeric\n",
        "rider['Count Year'] = pd.to_numeric(rider['Count Year'])\n",
        "rider['Brooklyn Bridge'] = pd.to_numeric(rider['Brooklyn Bridge'])\n",
        "rider['Manhattan Bridge'] = pd.to_numeric(rider['Manhattan Bridge'])\n",
        "rider['Williamsburg Bridge'] = pd.to_numeric(rider['Williamsburg Bridge'])\n",
        "rider['Ed Koch Queensboro Bridge'] = pd.to_numeric(rider['Ed Koch Queensboro Bridge'])\n",
        "rider['Grand Total'] = pd.to_numeric(rider['Grand Total'])"
      ],
      "metadata": {
        "id": "zaIieVHqHonE"
      },
      "execution_count": null,
      "outputs": []
    },
    {
      "cell_type": "code",
      "execution_count": null,
      "metadata": {
        "colab": {
          "base_uri": "https://localhost:8080/"
        },
        "id": "oSqgB6OLWt_D",
        "outputId": "92e837f4-daed-4cd8-ac47-d1fcf0a080fa"
      },
      "outputs": [
        {
          "output_type": "stream",
          "name": "stdout",
          "text": [
            "<class 'pandas.core.frame.DataFrame'>\n",
            "Int64Index: 21 entries, 17 to 54\n",
            "Data columns (total 6 columns):\n",
            " #   Column                     Non-Null Count  Dtype\n",
            "---  ------                     --------------  -----\n",
            " 0   Count Year                 21 non-null     int64\n",
            " 1   Brooklyn Bridge            21 non-null     int64\n",
            " 2   Manhattan Bridge           21 non-null     int64\n",
            " 3   Williamsburg Bridge        21 non-null     int64\n",
            " 4   Ed Koch Queensboro Bridge  21 non-null     int64\n",
            " 5   Grand Total                21 non-null     int64\n",
            "dtypes: int64(6)\n",
            "memory usage: 1.1 KB\n"
          ]
        }
      ],
      "source": [
        "rider.info()"
      ]
    },
    {
      "cell_type": "code",
      "execution_count": null,
      "metadata": {
        "id": "bFcbS_lNXG6u"
      },
      "outputs": [],
      "source": [
        "# Keeping only the years that the average numbers of trips is computed\n",
        "rider = rider[rider['Count Year'] > 2012]"
      ]
    },
    {
      "cell_type": "code",
      "execution_count": null,
      "metadata": {
        "id": "jlc0z-kRYA3q"
      },
      "outputs": [],
      "source": [
        "##we can see that the total number of trips has increased over the years, but not for the Brooklyn Bridge"
      ]
    },
    {
      "cell_type": "code",
      "execution_count": null,
      "metadata": {
        "id": "RwcErfTUYFCD",
        "colab": {
          "base_uri": "https://localhost:8080/",
          "height": 443
        },
        "outputId": "19a81e07-b88c-4010-ddaa-4e3499c932b5"
      },
      "outputs": [
        {
          "output_type": "display_data",
          "data": {
            "image/png": "[encoded data removed]",
            "text/plain": [
              "<Figure size 720x504 with 1 Axes>"
            ]
          },
          "metadata": {
            "needs_background": "light"
          }
        }
      ],
      "source": [
        "plt.rcParams[\"figure.figsize\"] = (10,7)\n",
        "plt.plot(rider['Count Year'], rider['Brooklyn Bridge'])\n",
        "plt.plot(rider['Count Year'], rider['Manhattan Bridge'])\n",
        "plt.plot(rider['Count Year'], rider['Williamsburg Bridge'])\n",
        "plt.plot(rider['Count Year'], rider['Ed Koch Queensboro Bridge'])\n",
        "plt.xticks(rider['Count Year'].values, rotation=45)\n",
        "plt.legend(['Brooklyn Bridge', 'Manhattan Bridge', 'Williamsburg Bridge', 'Ed Koch Queensboro Bridge'])\n",
        "plt.show()"
      ]
    },
    {
      "cell_type": "code",
      "source": [
        "data = rider[rider['Count Year'] > 2019]"
      ],
      "metadata": {
        "id": "1fKfcbuntMlF"
      },
      "execution_count": null,
      "outputs": []
    },
    {
      "cell_type": "code",
      "execution_count": null,
      "metadata": {
        "id": "CeOn1n-kRuGn",
        "colab": {
          "base_uri": "https://localhost:8080/",
          "height": 457
        },
        "outputId": "c6f4d24b-affa-46d2-d89f-82d55fbab08d"
      },
      "outputs": [
        {
          "output_type": "display_data",
          "data": {
            "image/png": "[encoded data removed]",
            "text/plain": [
              "<Figure size 720x504 with 1 Axes>"
            ]
          },
          "metadata": {
            "needs_background": "light"
          }
        }
      ],
      "source": [
        "#close up in the difference between 2020 and 2021\n",
        "\n",
        "plt.rcParams[\"figure.figsize\"] = (10,7)\n",
        "plt.plot(data['Count Year'], data['Brooklyn Bridge'])\n",
        "plt.plot(data['Count Year'], data['Manhattan Bridge'])\n",
        "plt.plot(data['Count Year'], data['Williamsburg Bridge'])\n",
        "plt.plot(data['Count Year'], data['Ed Koch Queensboro Bridge'])\n",
        "plt.xticks(data['Count Year'].values, rotation=45)\n",
        "plt.legend(['Brooklyn Bridge', 'Manhattan Bridge', 'Williamsburg Bridge', 'Ed Koch Queensboro Bridge'])\n",
        "plt.ylabel(\"Number of People Crossing\")\n",
        "plt.xlabel(\"Year\")\n",
        "plt.show()"
      ]
    },
    {
      "cell_type": "code",
      "execution_count": null,
      "metadata": {
        "id": "j4sUBQJYUaLV",
        "colab": {
          "base_uri": "https://localhost:8080/",
          "height": 469
        },
        "outputId": "7fc106ca-b3e2-433b-88a8-8037704a8646"
      },
      "outputs": [
        {
          "output_type": "display_data",
          "data": {
            "image/png": "[encoded data removed]",
            "text/plain": [
              "<Figure size 720x504 with 1 Axes>"
            ]
          },
          "metadata": {
            "needs_background": "light"
          }
        }
      ],
      "source": [
        "plt.plot(data['Count Year'], data['Brooklyn Bridge'])\n",
        "plt.ylabel(\"Number of People Crossing\")\n",
        "plt.xlabel(\"Year\")\n",
        "plt.xticks(rotation=70);\n",
        "plt.show()"
      ]
    },
    {
      "cell_type": "markdown",
      "metadata": {
        "id": "XynI7RPV9q8c"
      },
      "source": [
        "### 3. Is there a correlation between the distance of a Citi Bike station to the Brooklyn Bridge and how frequently it is used?"
      ]
    },
    {
      "cell_type": "markdown",
      "metadata": {
        "id": "X7QeXIzm9pyM"
      },
      "source": [
        "Import borough boundaries from: https://data.cityofnewyork.us/City-Government/Borough-Boundaries/tqmj-j8zm"
      ]
    },
    {
      "cell_type": "code",
      "execution_count": null,
      "metadata": {
        "id": "b-b22cTOEq7J"
      },
      "outputs": [],
      "source": [
        ""
      ]
    },
    {
      "cell_type": "code",
      "execution_count": null,
      "metadata": {
        "colab": {
          "base_uri": "https://localhost:8080/",
          "height": 283
        },
        "id": "4-REATCV-ST8",
        "outputId": "cc6bf0bb-6e2a-4c7b-bfd2-b18ad07be632"
      },
      "outputs": [
        {
          "output_type": "execute_result",
          "data": {
            "text/plain": [
              "<matplotlib.axes._subplots.AxesSubplot at 0x7ff89c2f6e90>"
            ]
          },
          "metadata": {},
          "execution_count": 3
        },
        {
          "output_type": "display_data",
          "data": {
            "image/png": "[encoded data removed]",
            "text/plain": [
              "<Figure size 432x288 with 1 Axes>"
            ]
          },
          "metadata": {
            "needs_background": "light"
          }
        }
      ],
      "source": [
        "boroboundaries = gpd.read_file('/content/drive/MyDrive/data/BoroughBoundaries/geo_export_1f2f41ab-ee51-4e7c-970c-3d4acab24b25.shp')\n",
        "boroboundaries.plot()"
      ]
    },
    {
      "cell_type": "code",
      "execution_count": null,
      "metadata": {
        "colab": {
          "base_uri": "https://localhost:8080/",
          "height": 206
        },
        "id": "9SUP2n9U9A1x",
        "outputId": "1d16acf3-69d3-4333-fe1e-c2545945b65a"
      },
      "outputs": [
        {
          "output_type": "execute_result",
          "data": {
            "text/html": [
              "<div>\n",
              "<style scoped>\n",
              "    .dataframe tbody tr th:only-of-type {\n",
              "        vertical-align: middle;\n",
              "    }\n",
              "\n",
              "    .dataframe tbody tr th {\n",
              "        vertical-align: top;\n",
              "    }\n",
              "\n",
              "    .dataframe thead th {\n",
              "        text-align: right;\n",
              "    }\n",
              "</style>\n",
              "<table border=\"1\" class=\"dataframe\">\n",
              "  <thead>\n",
              "    <tr style=\"text-align: right;\">\n",
              "      <th></th>\n",
              "      <th>boro_code</th>\n",
              "      <th>boro_name</th>\n",
              "      <th>shape_area</th>\n",
              "      <th>shape_leng</th>\n",
              "      <th>geometry</th>\n",
              "    </tr>\n",
              "  </thead>\n",
              "  <tbody>\n",
              "    <tr>\n",
              "      <th>0</th>\n",
              "      <td>1.0</td>\n",
              "      <td>Manhattan</td>\n",
              "      <td>6.366208e+08</td>\n",
              "      <td>359993.127161</td>\n",
              "      <td>MULTIPOLYGON (((-74.01093 40.68449, -74.01193 ...</td>\n",
              "    </tr>\n",
              "    <tr>\n",
              "      <th>1</th>\n",
              "      <td>2.0</td>\n",
              "      <td>Bronx</td>\n",
              "      <td>1.187194e+09</td>\n",
              "      <td>463868.935588</td>\n",
              "      <td>MULTIPOLYGON (((-73.89681 40.79581, -73.89694 ...</td>\n",
              "    </tr>\n",
              "    <tr>\n",
              "      <th>2</th>\n",
              "      <td>3.0</td>\n",
              "      <td>Brooklyn</td>\n",
              "      <td>1.934174e+09</td>\n",
              "      <td>728195.194837</td>\n",
              "      <td>MULTIPOLYGON (((-73.86327 40.58388, -73.86381 ...</td>\n",
              "    </tr>\n",
              "    <tr>\n",
              "      <th>3</th>\n",
              "      <td>5.0</td>\n",
              "      <td>Staten Island</td>\n",
              "      <td>1.623631e+09</td>\n",
              "      <td>325924.002252</td>\n",
              "      <td>MULTIPOLYGON (((-74.05051 40.56642, -74.05047 ...</td>\n",
              "    </tr>\n",
              "    <tr>\n",
              "      <th>4</th>\n",
              "      <td>4.0</td>\n",
              "      <td>Queens</td>\n",
              "      <td>3.040206e+09</td>\n",
              "      <td>900269.281914</td>\n",
              "      <td>MULTIPOLYGON (((-73.82645 40.59053, -73.82642 ...</td>\n",
              "    </tr>\n",
              "  </tbody>\n",
              "</table>\n",
              "</div>"
            ],
            "text/plain": [
              "   boro_code  ...                                           geometry\n",
              "0        1.0  ...  MULTIPOLYGON (((-74.01093 40.68449, -74.01193 ...\n",
              "1        2.0  ...  MULTIPOLYGON (((-73.89681 40.79581, -73.89694 ...\n",
              "2        3.0  ...  MULTIPOLYGON (((-73.86327 40.58388, -73.86381 ...\n",
              "3        5.0  ...  MULTIPOLYGON (((-74.05051 40.56642, -74.05047 ...\n",
              "4        4.0  ...  MULTIPOLYGON (((-73.82645 40.59053, -73.82642 ...\n",
              "\n",
              "[5 rows x 5 columns]"
            ]
          },
          "metadata": {},
          "execution_count": 4
        }
      ],
      "source": [
        "boroboundaries"
      ]
    },
    {
      "cell_type": "markdown",
      "metadata": {
        "id": "hW5gmAYxYYcb"
      },
      "source": [
        "https://towardsdatascience.com/reverse-geocoding-with-nyc-bike-share-data-cdef427987f8"
      ]
    },
    {
      "cell_type": "code",
      "execution_count": null,
      "metadata": {
        "id": "nGIDkyEJ_R92",
        "colab": {
          "base_uri": "https://localhost:8080/",
          "height": 206
        },
        "outputId": "4458dd28-3fd3-407b-9a41-3f25100a1f7d"
      },
      "outputs": [
        {
          "output_type": "execute_result",
          "data": {
            "text/html": [
              "<div>\n",
              "<style scoped>\n",
              "    .dataframe tbody tr th:only-of-type {\n",
              "        vertical-align: middle;\n",
              "    }\n",
              "\n",
              "    .dataframe tbody tr th {\n",
              "        vertical-align: top;\n",
              "    }\n",
              "\n",
              "    .dataframe thead th {\n",
              "        text-align: right;\n",
              "    }\n",
              "</style>\n",
              "<table border=\"1\" class=\"dataframe\">\n",
              "  <thead>\n",
              "    <tr style=\"text-align: right;\">\n",
              "      <th></th>\n",
              "      <th>boro_code</th>\n",
              "      <th>boro_name</th>\n",
              "      <th>shape_area</th>\n",
              "      <th>shape_leng</th>\n",
              "      <th>geometry</th>\n",
              "    </tr>\n",
              "  </thead>\n",
              "  <tbody>\n",
              "    <tr>\n",
              "      <th>0</th>\n",
              "      <td>1.0</td>\n",
              "      <td>Manhattan</td>\n",
              "      <td>6.366208e+08</td>\n",
              "      <td>359993.127161</td>\n",
              "      <td>MULTIPOLYGON (((-74.01093 40.68449, -74.01193 ...</td>\n",
              "    </tr>\n",
              "    <tr>\n",
              "      <th>1</th>\n",
              "      <td>2.0</td>\n",
              "      <td>Bronx</td>\n",
              "      <td>1.187194e+09</td>\n",
              "      <td>463868.935588</td>\n",
              "      <td>MULTIPOLYGON (((-73.89681 40.79581, -73.89694 ...</td>\n",
              "    </tr>\n",
              "    <tr>\n",
              "      <th>2</th>\n",
              "      <td>3.0</td>\n",
              "      <td>Brooklyn</td>\n",
              "      <td>1.934174e+09</td>\n",
              "      <td>728195.194837</td>\n",
              "      <td>MULTIPOLYGON (((-73.86327 40.58388, -73.86381 ...</td>\n",
              "    </tr>\n",
              "    <tr>\n",
              "      <th>3</th>\n",
              "      <td>5.0</td>\n",
              "      <td>Staten Island</td>\n",
              "      <td>1.623631e+09</td>\n",
              "      <td>325924.002252</td>\n",
              "      <td>MULTIPOLYGON (((-74.05051 40.56642, -74.05047 ...</td>\n",
              "    </tr>\n",
              "    <tr>\n",
              "      <th>4</th>\n",
              "      <td>4.0</td>\n",
              "      <td>Queens</td>\n",
              "      <td>3.040206e+09</td>\n",
              "      <td>900269.281914</td>\n",
              "      <td>MULTIPOLYGON (((-73.82645 40.59053, -73.82642 ...</td>\n",
              "    </tr>\n",
              "  </tbody>\n",
              "</table>\n",
              "</div>"
            ],
            "text/plain": [
              "   boro_code  ...                                           geometry\n",
              "0        1.0  ...  MULTIPOLYGON (((-74.01093 40.68449, -74.01193 ...\n",
              "1        2.0  ...  MULTIPOLYGON (((-73.89681 40.79581, -73.89694 ...\n",
              "2        3.0  ...  MULTIPOLYGON (((-73.86327 40.58388, -73.86381 ...\n",
              "3        5.0  ...  MULTIPOLYGON (((-74.05051 40.56642, -74.05047 ...\n",
              "4        4.0  ...  MULTIPOLYGON (((-73.82645 40.59053, -73.82642 ...\n",
              "\n",
              "[5 rows x 5 columns]"
            ]
          },
          "metadata": {},
          "execution_count": 27
        }
      ],
      "source": [
        "brooklynbridge = Point(-73.9969, 40.7061)\n",
        "boroboundaries"
      ]
    },
    {
      "cell_type": "code",
      "execution_count": null,
      "metadata": {
        "id": "q-xUu0ph8tzN"
      },
      "outputs": [],
      "source": [
        "def define_boros(filepath, brooklynbridge = brooklynbridge):\n",
        "  df = pd.read_csv(filepath)\n",
        "  df.dropna(inplace=True)\n",
        "  df['started_at'] = pd.to_datetime(df['started_at'], format=\"%Y/%m/%d\")\n",
        "  df['ended_at'] = pd.to_datetime(df['ended_at'], format=\"%Y/%m/%d\")\n",
        "  df['duration'] = (df['ended_at'] - df['started_at']).dt.seconds\n",
        "  gdf = gpd.GeoDataFrame(\n",
        "    df, geometry=gpd.points_from_xy(df.start_lng, df.start_lat))\n",
        "  gdf.set_crs(crs=\"epsg:4326\", inplace=True)\n",
        "  gdf['distance_to_bridge'] = gdf.distance(brooklynbridge)\n",
        "  gdf = gdf.sjoin(boroboundaries, how='left', op='within')\n",
        "  gdf.drop(columns=['shape_leng', 'shape_area', 'index_right'], inplace=True)\n",
        "  gdf['geometry']=gpd.points_from_xy(gdf.end_lng, gdf.end_lat)\n",
        "  gdf = gdf.sjoin(boroboundaries, how='left', op='within')\n",
        "  gdf.drop(columns=['shape_leng', 'shape_area', 'index_right'], inplace=True)\n",
        "  gdf = gdf.loc[gdf['boro_name_left'] != gdf['boro_name_right']]\n",
        "  df1 = pd.DataFrame(gdf.drop(columns='geometry'))\n",
        "  df1.dropna(inplace=True)\n",
        "  return df1"
      ]
    },
    {
      "cell_type": "code",
      "execution_count": null,
      "metadata": {
        "id": "QRxH8tjS8zlF",
        "colab": {
          "base_uri": "https://localhost:8080/"
        },
        "outputId": "c5b4185e-25b4-43ae-e5a7-c57d23eb2f6f"
      },
      "outputs": [
        {
          "output_type": "stream",
          "name": "stderr",
          "text": [
            "/usr/local/lib/python3.7/dist-packages/IPython/core/interactiveshell.py:2822: DtypeWarning: Columns (5,7) have mixed types.Specify dtype option on import or set low_memory=False.\n",
            "  if self.run_code(code, result):\n"
          ]
        }
      ],
      "source": [
        "prebridge = define_boros('/content/drive/MyDrive/data/citibike data/202104-citibike-tripdata.csv')\n",
        "prebridge = prebridge.append(define_boros('/content/drive/MyDrive/data/citibike data/202105-citibike-tripdata.csv'))\n",
        "prebridge = prebridge.append(define_boros('/content/drive/MyDrive/data/citibike data/202106-citibike-tripdata.csv'))\n",
        "prebridge = prebridge.append(define_boros('/content/drive/MyDrive/data/citibike data/202107-citibike-tripdata.csv'))\n",
        "prebridge = prebridge.append(define_boros('/content/drive/MyDrive/data/citibike data/202108-citibike-tripdata.csv'))\n",
        "postbridge = define_boros('/content/drive/MyDrive/data/citibike data/202109-citibike-tripdata.csv')\n",
        "postbridge = postbridge.append(define_boros('/content/drive/MyDrive/data/citibike data/202110-citibike-tripdata.csv'))"
      ]
    },
    {
      "cell_type": "code",
      "source": [
        "prebridge"
      ],
      "metadata": {
        "id": "1Gz9ypTL-zlK"
      },
      "execution_count": null,
      "outputs": []
    },
    {
      "cell_type": "code",
      "execution_count": null,
      "metadata": {
        "id": "xs357z_6MrXU"
      },
      "outputs": [],
      "source": [
        "\n",
        "preM = prebridge.loc[prebridge['boro_name_left'] == 'Manhattan']\n",
        "postM = postbridge.loc[postbridge['boro_name_left'] == 'Manhattan']\n",
        "preBK = prebridge.loc[prebridge['boro_name_left'] == 'Brooklyn']\n",
        "postBK  = postbridge.loc[postbridge['boro_name_left'] == 'Brooklyn']\n",
        "\n",
        "preM = preM.groupby(['start_station_id', 'distance_to_bridge']).agg({'duration': 'mean', 'end_station_id':'count'})\n",
        "postM = postM.groupby(['start_station_id', 'distance_to_bridge']).agg({'duration': 'mean', 'end_station_id':'count'})\n",
        "preBK = preBK.groupby(['start_station_id', 'distance_to_bridge']).agg({'duration': 'mean', 'end_station_id':'count'})\n",
        "postBK = postBK.groupby(['start_station_id', 'distance_to_bridge']).agg({'duration': 'mean', 'end_station_id':'count'})"
      ]
    },
    {
      "cell_type": "code",
      "source": [
        "# preM['distance_to_bridge'] = preM.index.get_level_values(1)\n",
        "# postM['distance_to_bridge'] = postM.index.get_level_values(1)\n",
        "# preBK['distance_to_bridge'] = preBK.index.get_level_values(1)\n",
        "# postBK['distance_to_bridge'] = postBK.index.get_level_values(1)\n",
        "\n",
        "# # df['distance_to_bridge'] = df.index.get_level_values(1)\n",
        "# # df = df.droplevel(1)\n",
        "# # df.rename(columns={'end_station_id':'trip_count'}, inplace=True)\n",
        "# # length=((df['started_at'].max() - df['started_at'].min())).days\n",
        "# # df['tripsperday'] = df['trip_count'] /length\n",
        "# # return df\n",
        "\n",
        "\n",
        "# preM = preM.droplevel(1)\n",
        "# postM = postM.droplevel(1)\n",
        "# preBK = preBK.droplevel(1)\n",
        "# postBK = postBK.droplevel(1)\n",
        "\n",
        "# preM.rename(columns={'end_station_id':'trip_count'}, inplace=True)\n",
        "# postM.rename(columns={'end_station_id':'trip_count'}, inplace=True)\n",
        "# preBK.rename(columns={'end_station_id':'trip_count'}, inplace=True)\n",
        "# postBK.rename(columns={'end_station_id':'trip_count'}, inplace=True)"
      ],
      "metadata": {
        "id": "xlAwyrVU_C0f"
      },
      "execution_count": null,
      "outputs": []
    },
    {
      "cell_type": "code",
      "source": [
        "prelength=((prebridge['started_at'].max() - prebridge['started_at'].min())).days\n",
        "postlength=((postbridge['started_at'].max() - postbridge['started_at'].min())).days\n",
        "\n",
        "def trips_per_day(df, length):\n",
        "  df['distance_to_bridge'] = df.index.get_level_values(1)\n",
        "  df = df.droplevel(1)\n",
        "  df.rename(columns={'end_station_id':'trip_count'}, inplace=True)\n",
        "  df['tripsperday'] = df['trip_count'] /length\n",
        "  return df"
      ],
      "metadata": {
        "id": "SxvV6pyzBU-t"
      },
      "execution_count": null,
      "outputs": []
    },
    {
      "cell_type": "code",
      "source": [
        "preM = trips_per_day(preM, length = prelength)\n",
        "postM= trips_per_day(postM, length=postlength)\n",
        "preBK= trips_per_day(preBK, length = prelength)\n",
        "postBK= trips_per_day(postBK,  length=postlength)"
      ],
      "metadata": {
        "id": "p0BbMHzNBcBk"
      },
      "execution_count": null,
      "outputs": []
    },
    {
      "cell_type": "code",
      "source": [
        ""
      ],
      "metadata": {
        "id": "Zx5K1cNSL3EL"
      },
      "execution_count": null,
      "outputs": []
    },
    {
      "cell_type": "code",
      "source": [
        ""
      ],
      "metadata": {
        "id": "gZGwweHbNjyU"
      },
      "execution_count": null,
      "outputs": []
    },
    {
      "cell_type": "code",
      "source": [
        "postBK.head()"
      ],
      "metadata": {
        "id": "HwDFyBnyN4tX"
      },
      "execution_count": null,
      "outputs": []
    },
    {
      "cell_type": "code",
      "execution_count": null,
      "metadata": {
        "id": "d0kjYEbjRCuY"
      },
      "outputs": [],
      "source": [
        "def scaterplot(df, title):\n",
        "  plt.figure(figsize=(4,4))\n",
        "  plt.scatter(df['distance_to_bridge'],df['tripsperday'],c=\"k\")\n",
        "  plt.title(title)\n",
        "  plt.xlabel('Distance to the Brooklyn Bridge')\n",
        "  plt.ylabel('Average daily trip starts')\n",
        "  plt.show()"
      ]
    },
    {
      "cell_type": "code",
      "source": [
        "scaterplot(preM, 'Manhattan before new path')\n",
        "scaterplot(postM, 'Manhattan after new path')\n",
        "scaterplot(preBK, 'Brooklyn before new path')\n",
        "scaterplot(postBK, 'Brooklyn after new path')"
      ],
      "metadata": {
        "id": "p9uFiOK4Cf9D"
      },
      "execution_count": null,
      "outputs": []
    },
    {
      "cell_type": "code",
      "source": [
        "def lin_reg(df):\n",
        "  lm = LinearRegression(fit_intercept=True).fit(df[['distance_to_bridge']], df['tripsperday'])\n",
        "  print(lm.coef_)\n",
        "  return lm\n",
        "\n",
        "Manhattan1 = lin_reg(preM)\n",
        "Manhattan2 = lin_reg(postM)\n",
        "Brooklyn1 = lin_reg(preBK)\n",
        "Brooklyn2 = lin_reg(postBK)"
      ],
      "metadata": {
        "id": "QTHxjiVuMU48"
      },
      "execution_count": null,
      "outputs": []
    },
    {
      "cell_type": "code",
      "source": [
        "print(prelm.coef_)\n",
        "postlm.coef_"
      ],
      "metadata": {
        "id": "d6NZLEZgMUqW"
      },
      "execution_count": null,
      "outputs": []
    },
    {
      "cell_type": "code",
      "source": [
        "def linplot(df, title):\n",
        "  plt.figure(figsize=(4,4))\n",
        "  plt.scatter(df['distance_to_bridge'],df['tripsperday'],c=\"k\")\n",
        "  lm = LinearRegression(fit_intercept=True).fit(df[['distance_to_bridge']], df['tripsperday'])\n",
        "  x = np.linspace(df['distance_to_bridge'].min(),df['distance_to_bridge'].max())\n",
        "  y = (lm.coef_ * x) + lm.intercept_\n",
        "  plt.plot(x, y, '-r')\n",
        "  plt.title(title)\n",
        "  plt.xlabel('Distance to the Brooklyn Bridge')\n",
        "  plt.ylabel('Average daily trip starts')\n",
        "  plt.show()\n",
        "  print(\"Coeficient: \"+str(lm.coef_[0]))\n",
        "  print(\"Intercept: \"+str(lm.intercept_))\n"
      ],
      "metadata": {
        "id": "ZhKrmv9BMR87"
      },
      "execution_count": null,
      "outputs": []
    },
    {
      "cell_type": "code",
      "source": [
        "linplot(preM, \"Manhattan before the new bike path\")\n",
        "linplot(postM, \"Manhattan after the new bike path\")\n",
        "linplot(preBK, \"Brooklyn before the new bike path\")\n",
        "linplot(postBK, \"Brooklyn after the new bike path\")\n"
      ],
      "metadata": {
        "id": "3FwwYwLE6w3Q"
      },
      "execution_count": null,
      "outputs": []
    },
    {
      "cell_type": "markdown",
      "metadata": {
        "id": "N9UsLVAw93mH"
      },
      "source": [
        "### 4. Has there been a shift in bicycle mobility patterns around the bridges?"
      ]
    },
    {
      "cell_type": "code",
      "execution_count": null,
      "metadata": {
        "colab": {
          "base_uri": "https://localhost:8080/",
          "height": 206
        },
        "id": "qnVxsqQF-S72",
        "outputId": "44d3ebef-1fdf-42a4-8794-9ef83d1e9091"
      },
      "outputs": [
        {
          "output_type": "execute_result",
          "data": {
            "text/html": [
              "<div>\n",
              "<style scoped>\n",
              "    .dataframe tbody tr th:only-of-type {\n",
              "        vertical-align: middle;\n",
              "    }\n",
              "\n",
              "    .dataframe tbody tr th {\n",
              "        vertical-align: top;\n",
              "    }\n",
              "\n",
              "    .dataframe thead th {\n",
              "        text-align: right;\n",
              "    }\n",
              "</style>\n",
              "<table border=\"1\" class=\"dataframe\">\n",
              "  <thead>\n",
              "    <tr style=\"text-align: right;\">\n",
              "      <th></th>\n",
              "      <th>Date</th>\n",
              "      <th>Day</th>\n",
              "      <th>Brooklyn Bridge</th>\n",
              "      <th>Manhattan Bridge</th>\n",
              "      <th>Williamsburg Bridge</th>\n",
              "      <th>Queensboro Bridge</th>\n",
              "      <th>Total</th>\n",
              "    </tr>\n",
              "  </thead>\n",
              "  <tbody>\n",
              "    <tr>\n",
              "      <th>0</th>\n",
              "      <td>9/1</td>\n",
              "      <td>Wednesday</td>\n",
              "      <td>515.0</td>\n",
              "      <td>2287.0</td>\n",
              "      <td>2921.0</td>\n",
              "      <td>2948.0</td>\n",
              "      <td>8671.0</td>\n",
              "    </tr>\n",
              "    <tr>\n",
              "      <th>1</th>\n",
              "      <td>9/2</td>\n",
              "      <td>Thursday</td>\n",
              "      <td>2393.0</td>\n",
              "      <td>7746.0</td>\n",
              "      <td>9001.0</td>\n",
              "      <td>8130.0</td>\n",
              "      <td>27270.0</td>\n",
              "    </tr>\n",
              "    <tr>\n",
              "      <th>2</th>\n",
              "      <td>9/3</td>\n",
              "      <td>Friday</td>\n",
              "      <td>2225.0</td>\n",
              "      <td>7126.0</td>\n",
              "      <td>8499.0</td>\n",
              "      <td>7268.0</td>\n",
              "      <td>25118.0</td>\n",
              "    </tr>\n",
              "    <tr>\n",
              "      <th>3</th>\n",
              "      <td>9/4</td>\n",
              "      <td>Saturday</td>\n",
              "      <td>2271.0</td>\n",
              "      <td>6257.0</td>\n",
              "      <td>7777.0</td>\n",
              "      <td>5620.0</td>\n",
              "      <td>21925.0</td>\n",
              "    </tr>\n",
              "    <tr>\n",
              "      <th>4</th>\n",
              "      <td>9/5</td>\n",
              "      <td>Sunday</td>\n",
              "      <td>1408.0</td>\n",
              "      <td>4332.0</td>\n",
              "      <td>5481.0</td>\n",
              "      <td>3826.0</td>\n",
              "      <td>15047.0</td>\n",
              "    </tr>\n",
              "  </tbody>\n",
              "</table>\n",
              "</div>"
            ],
            "text/plain": [
              "  Date        Day  ...  Queensboro Bridge   Total \n",
              "0  9/1  Wednesday  ...             2948.0   8671.0\n",
              "1  9/2   Thursday  ...             8130.0  27270.0\n",
              "2  9/3     Friday  ...             7268.0  25118.0\n",
              "3  9/4   Saturday  ...             5620.0  21925.0\n",
              "4  9/5     Sunday  ...             3826.0  15047.0\n",
              "\n",
              "[5 rows x 7 columns]"
            ]
          },
          "metadata": {},
          "execution_count": 21
        }
      ],
      "source": [
        "bgcount09 = pd.read_csv('/content/drive/MyDrive/PUI project/data/east-river-bridge-cyclist-count(09).csv')\n",
        "bgcount09.dropna(inplace=True)\n",
        "bgcount09.head()\n"
      ]
    },
    {
      "cell_type": "code",
      "execution_count": null,
      "metadata": {
        "colab": {
          "base_uri": "https://localhost:8080/",
          "height": 206
        },
        "id": "fWOMor_K3KsZ",
        "outputId": "c125c25d-f09a-4efd-b4ff-e966f8b921cc"
      },
      "outputs": [
        {
          "output_type": "execute_result",
          "data": {
            "text/html": [
              "<div>\n",
              "<style scoped>\n",
              "    .dataframe tbody tr th:only-of-type {\n",
              "        vertical-align: middle;\n",
              "    }\n",
              "\n",
              "    .dataframe tbody tr th {\n",
              "        vertical-align: top;\n",
              "    }\n",
              "\n",
              "    .dataframe thead th {\n",
              "        text-align: right;\n",
              "    }\n",
              "</style>\n",
              "<table border=\"1\" class=\"dataframe\">\n",
              "  <thead>\n",
              "    <tr style=\"text-align: right;\">\n",
              "      <th></th>\n",
              "      <th>Date</th>\n",
              "      <th>Day</th>\n",
              "      <th>Brooklyn Bridge</th>\n",
              "      <th>Manhattan Bridge</th>\n",
              "      <th>Williamsburg Bridge</th>\n",
              "      <th>Queensboro Bridge</th>\n",
              "      <th>Total</th>\n",
              "    </tr>\n",
              "  </thead>\n",
              "  <tbody>\n",
              "    <tr>\n",
              "      <th>0</th>\n",
              "      <td>10/1</td>\n",
              "      <td>Friday</td>\n",
              "      <td>4087</td>\n",
              "      <td>6601</td>\n",
              "      <td>7970</td>\n",
              "      <td>6706</td>\n",
              "      <td>25364</td>\n",
              "    </tr>\n",
              "    <tr>\n",
              "      <th>1</th>\n",
              "      <td>10/2</td>\n",
              "      <td>Saturday</td>\n",
              "      <td>4816</td>\n",
              "      <td>6451</td>\n",
              "      <td>8195</td>\n",
              "      <td>5999</td>\n",
              "      <td>25461</td>\n",
              "    </tr>\n",
              "    <tr>\n",
              "      <th>2</th>\n",
              "      <td>10/3</td>\n",
              "      <td>Sunday</td>\n",
              "      <td>4291</td>\n",
              "      <td>5673</td>\n",
              "      <td>7043</td>\n",
              "      <td>5111</td>\n",
              "      <td>22118</td>\n",
              "    </tr>\n",
              "    <tr>\n",
              "      <th>3</th>\n",
              "      <td>10/4</td>\n",
              "      <td>Monday</td>\n",
              "      <td>2257</td>\n",
              "      <td>3804</td>\n",
              "      <td>4594</td>\n",
              "      <td>4230</td>\n",
              "      <td>14885</td>\n",
              "    </tr>\n",
              "    <tr>\n",
              "      <th>4</th>\n",
              "      <td>10/5</td>\n",
              "      <td>Tuesday</td>\n",
              "      <td>4006</td>\n",
              "      <td>6228</td>\n",
              "      <td>7355</td>\n",
              "      <td>6158</td>\n",
              "      <td>23747</td>\n",
              "    </tr>\n",
              "  </tbody>\n",
              "</table>\n",
              "</div>"
            ],
            "text/plain": [
              "   Date       Day  ...  Queensboro Bridge  Total\n",
              "0  10/1    Friday  ...               6706  25364\n",
              "1  10/2  Saturday  ...               5999  25461\n",
              "2  10/3    Sunday  ...               5111  22118\n",
              "3  10/4    Monday  ...               4230  14885\n",
              "4  10/5   Tuesday  ...               6158  23747\n",
              "\n",
              "[5 rows x 7 columns]"
            ]
          },
          "metadata": {},
          "execution_count": 22
        }
      ],
      "source": [
        "bgcount10 = pd.read_csv('/content/drive/MyDrive/PUI project/data/east-river-bridge-cyclist-count(10).csv')\n",
        "bgcount10.head()"
      ]
    },
    {
      "cell_type": "code",
      "execution_count": null,
      "metadata": {
        "colab": {
          "base_uri": "https://localhost:8080/",
          "height": 300
        },
        "id": "c5gfCEZL5eoT",
        "outputId": "d12aebf9-e2b6-4d76-a5a1-5aab6bc85ada"
      },
      "outputs": [
        {
          "output_type": "execute_result",
          "data": {
            "text/html": [
              "<div>\n",
              "<style scoped>\n",
              "    .dataframe tbody tr th:only-of-type {\n",
              "        vertical-align: middle;\n",
              "    }\n",
              "\n",
              "    .dataframe tbody tr th {\n",
              "        vertical-align: top;\n",
              "    }\n",
              "\n",
              "    .dataframe thead th {\n",
              "        text-align: right;\n",
              "    }\n",
              "</style>\n",
              "<table border=\"1\" class=\"dataframe\">\n",
              "  <thead>\n",
              "    <tr style=\"text-align: right;\">\n",
              "      <th></th>\n",
              "      <th>Brooklyn Bridge(09)</th>\n",
              "      <th>Brooklyn Bridge(10)</th>\n",
              "    </tr>\n",
              "    <tr>\n",
              "      <th>Day</th>\n",
              "      <th></th>\n",
              "      <th></th>\n",
              "    </tr>\n",
              "  </thead>\n",
              "  <tbody>\n",
              "    <tr>\n",
              "      <th>Friday</th>\n",
              "      <td>12782.0</td>\n",
              "      <td>19718</td>\n",
              "    </tr>\n",
              "    <tr>\n",
              "      <th>Monday</th>\n",
              "      <td>12651.0</td>\n",
              "      <td>12952</td>\n",
              "    </tr>\n",
              "    <tr>\n",
              "      <th>Saturday</th>\n",
              "      <td>15286.0</td>\n",
              "      <td>17272</td>\n",
              "    </tr>\n",
              "    <tr>\n",
              "      <th>Sunday</th>\n",
              "      <td>13127.0</td>\n",
              "      <td>15246</td>\n",
              "    </tr>\n",
              "    <tr>\n",
              "      <th>Thursday</th>\n",
              "      <td>13905.0</td>\n",
              "      <td>17932</td>\n",
              "    </tr>\n",
              "    <tr>\n",
              "      <th>Tuesday</th>\n",
              "      <td>14034.0</td>\n",
              "      <td>13479</td>\n",
              "    </tr>\n",
              "    <tr>\n",
              "      <th>Wednesday</th>\n",
              "      <td>16486.0</td>\n",
              "      <td>16996</td>\n",
              "    </tr>\n",
              "  </tbody>\n",
              "</table>\n",
              "</div>"
            ],
            "text/plain": [
              "           Brooklyn Bridge(09)  Brooklyn Bridge(10)\n",
              "Day                                                \n",
              "Friday                 12782.0                19718\n",
              "Monday                 12651.0                12952\n",
              "Saturday               15286.0                17272\n",
              "Sunday                 13127.0                15246\n",
              "Thursday               13905.0                17932\n",
              "Tuesday                14034.0                13479\n",
              "Wednesday              16486.0                16996"
            ]
          },
          "metadata": {},
          "execution_count": 23
        }
      ],
      "source": [
        "# Brooklyn Bridge\n",
        "sum_of_counts_by_week09 = bgcount09.groupby('Day')['Brooklyn Bridge'].sum()\n",
        "bklyn09 = pd.DataFrame(sum_of_counts_by_week09)\n",
        "bklyn09 = bklyn09.rename(columns = {'Brooklyn Bridge': 'Brooklyn Bridge(09)'})\n",
        "bklyn09.head()\n",
        "\n",
        "sum_of_counts_by_week10 = bgcount10.groupby('Day')['Brooklyn Bridge'].sum()\n",
        "bklyn10 = pd.DataFrame(sum_of_counts_by_week10)\n",
        "bklyn10 = bklyn10.rename(columns = {'Brooklyn Bridge': 'Brooklyn Bridge(10)'})\n",
        "\n",
        "bklyn0910 = pd.concat([bklyn09, bklyn10], axis=1)\n",
        "bklyn0910"
      ]
    },
    {
      "cell_type": "code",
      "source": [
        "# Manhattan Bridge\n",
        "sum_09_manbridge = bgcount09.groupby('Day')['Manhattan Bridge'].sum()\n",
        "manhattan09 = pd.DataFrame(sum_09_manbridge)\n",
        "manhattan09 = manhattan09.rename(columns = {'Manhattan Bridge': 'Manhattan Bridge(09)'})\n",
        "\n",
        "sum_10_manbridge = bgcount10.groupby('Day')['Manhattan Bridge'].sum()\n",
        "manhattan10 = pd.DataFrame(sum_10_manbridge)\n",
        "manhattan10 = manhattan10.rename(columns = {'Manhattan Bridge': 'Manhattan Bridge(10)'})\n",
        "\n",
        "manhattan0910 = pd.concat([manhattan09, manhattan10], axis=1)\n",
        "manhattan0910.head()"
      ],
      "metadata": {
        "id": "wWgGaDh_jC-j",
        "colab": {
          "base_uri": "https://localhost:8080/",
          "height": 238
        },
        "outputId": "e39ea28d-6250-4c23-8804-1f69639bfe55"
      },
      "execution_count": null,
      "outputs": [
        {
          "output_type": "execute_result",
          "data": {
            "text/html": [
              "<div>\n",
              "<style scoped>\n",
              "    .dataframe tbody tr th:only-of-type {\n",
              "        vertical-align: middle;\n",
              "    }\n",
              "\n",
              "    .dataframe tbody tr th {\n",
              "        vertical-align: top;\n",
              "    }\n",
              "\n",
              "    .dataframe thead th {\n",
              "        text-align: right;\n",
              "    }\n",
              "</style>\n",
              "<table border=\"1\" class=\"dataframe\">\n",
              "  <thead>\n",
              "    <tr style=\"text-align: right;\">\n",
              "      <th></th>\n",
              "      <th>Manhattan Bridge(09)</th>\n",
              "      <th>Manhattan Bridge(10)</th>\n",
              "    </tr>\n",
              "    <tr>\n",
              "      <th>Day</th>\n",
              "      <th></th>\n",
              "      <th></th>\n",
              "    </tr>\n",
              "  </thead>\n",
              "  <tbody>\n",
              "    <tr>\n",
              "      <th>Friday</th>\n",
              "      <td>27058.0</td>\n",
              "      <td>30404</td>\n",
              "    </tr>\n",
              "    <tr>\n",
              "      <th>Monday</th>\n",
              "      <td>26310.0</td>\n",
              "      <td>19655</td>\n",
              "    </tr>\n",
              "    <tr>\n",
              "      <th>Saturday</th>\n",
              "      <td>26824.0</td>\n",
              "      <td>24060</td>\n",
              "    </tr>\n",
              "    <tr>\n",
              "      <th>Sunday</th>\n",
              "      <td>22661.0</td>\n",
              "      <td>22061</td>\n",
              "    </tr>\n",
              "    <tr>\n",
              "      <th>Thursday</th>\n",
              "      <td>28405.0</td>\n",
              "      <td>27977</td>\n",
              "    </tr>\n",
              "  </tbody>\n",
              "</table>\n",
              "</div>"
            ],
            "text/plain": [
              "          Manhattan Bridge(09)  Manhattan Bridge(10)\n",
              "Day                                                 \n",
              "Friday                 27058.0                 30404\n",
              "Monday                 26310.0                 19655\n",
              "Saturday               26824.0                 24060\n",
              "Sunday                 22661.0                 22061\n",
              "Thursday               28405.0                 27977"
            ]
          },
          "metadata": {},
          "execution_count": 24
        }
      ]
    },
    {
      "cell_type": "code",
      "source": [
        "# Williamsburg Bridge\n",
        "sum_09_willBrdg = bgcount09.groupby('Day')['Williamsburg Bridge'].sum()\n",
        "williams09 = pd.DataFrame(sum_09_willBrdg)\n",
        "williams09 = williams09.rename(columns = {'Williamsburg Bridge': 'Williamsburg Bridge(09)'})\n",
        "\n",
        "sum_10_willBrdg = bgcount10.groupby('Day')['Williamsburg Bridge'].sum()\n",
        "williams10 = pd.DataFrame(sum_10_willBrdg)\n",
        "williams10 = williams10.rename(columns = {'Williamsburg Bridge': 'Williamsburg Bridge(10)'})\n",
        "\n",
        "williams0910 = pd.concat([williams09, williams10], axis=1)\n",
        "williams0910"
      ],
      "metadata": {
        "id": "UjRko2ZyjDzy",
        "colab": {
          "base_uri": "https://localhost:8080/",
          "height": 300
        },
        "outputId": "33110ebf-8355-47cc-ede9-29fc44e662fa"
      },
      "execution_count": null,
      "outputs": [
        {
          "output_type": "execute_result",
          "data": {
            "text/html": [
              "<div>\n",
              "<style scoped>\n",
              "    .dataframe tbody tr th:only-of-type {\n",
              "        vertical-align: middle;\n",
              "    }\n",
              "\n",
              "    .dataframe tbody tr th {\n",
              "        vertical-align: top;\n",
              "    }\n",
              "\n",
              "    .dataframe thead th {\n",
              "        text-align: right;\n",
              "    }\n",
              "</style>\n",
              "<table border=\"1\" class=\"dataframe\">\n",
              "  <thead>\n",
              "    <tr style=\"text-align: right;\">\n",
              "      <th></th>\n",
              "      <th>Williamsburg Bridge(09)</th>\n",
              "      <th>Williamsburg Bridge(10)</th>\n",
              "    </tr>\n",
              "    <tr>\n",
              "      <th>Day</th>\n",
              "      <th></th>\n",
              "      <th></th>\n",
              "    </tr>\n",
              "  </thead>\n",
              "  <tbody>\n",
              "    <tr>\n",
              "      <th>Friday</th>\n",
              "      <td>32808.0</td>\n",
              "      <td>37264</td>\n",
              "    </tr>\n",
              "    <tr>\n",
              "      <th>Monday</th>\n",
              "      <td>31104.0</td>\n",
              "      <td>23599</td>\n",
              "    </tr>\n",
              "    <tr>\n",
              "      <th>Saturday</th>\n",
              "      <td>34987.0</td>\n",
              "      <td>28805</td>\n",
              "    </tr>\n",
              "    <tr>\n",
              "      <th>Sunday</th>\n",
              "      <td>28655.0</td>\n",
              "      <td>27315</td>\n",
              "    </tr>\n",
              "    <tr>\n",
              "      <th>Thursday</th>\n",
              "      <td>34862.0</td>\n",
              "      <td>32838</td>\n",
              "    </tr>\n",
              "    <tr>\n",
              "      <th>Tuesday</th>\n",
              "      <td>32711.0</td>\n",
              "      <td>24978</td>\n",
              "    </tr>\n",
              "    <tr>\n",
              "      <th>Wednesday</th>\n",
              "      <td>37304.0</td>\n",
              "      <td>30622</td>\n",
              "    </tr>\n",
              "  </tbody>\n",
              "</table>\n",
              "</div>"
            ],
            "text/plain": [
              "           Williamsburg Bridge(09)  Williamsburg Bridge(10)\n",
              "Day                                                        \n",
              "Friday                     32808.0                    37264\n",
              "Monday                     31104.0                    23599\n",
              "Saturday                   34987.0                    28805\n",
              "Sunday                     28655.0                    27315\n",
              "Thursday                   34862.0                    32838\n",
              "Tuesday                    32711.0                    24978\n",
              "Wednesday                  37304.0                    30622"
            ]
          },
          "metadata": {},
          "execution_count": 25
        }
      ]
    },
    {
      "cell_type": "code",
      "source": [
        "# Queensboro Bridge\n",
        "sum_09_Queens = bgcount09.groupby('Day')['Queensboro Bridge'].sum()\n",
        "queens09 = pd.DataFrame(sum_09_Queens)\n",
        "queens09 = queens09.rename(columns = {'Queensboro Bridge': 'Queensboro Bridge(09)'})\n",
        "\n",
        "sum_10_Queens = bgcount10.groupby('Day')['Queensboro Bridge'].sum()\n",
        "queens10 = pd.DataFrame(sum_10_Queens)\n",
        "queens10 = queens10.rename(columns = {'Queensboro Bridge': 'Queensboro Bridge(10)'})\n",
        "\n",
        "queens0910 = pd.concat([queens09, queens10], axis=1)\n",
        "queens0910"
      ],
      "metadata": {
        "id": "jL1eb3SijFmO",
        "colab": {
          "base_uri": "https://localhost:8080/",
          "height": 300
        },
        "outputId": "f0c082e1-34e8-47a2-d6c3-7cb707454ba6"
      },
      "execution_count": null,
      "outputs": [
        {
          "output_type": "execute_result",
          "data": {
            "text/html": [
              "<div>\n",
              "<style scoped>\n",
              "    .dataframe tbody tr th:only-of-type {\n",
              "        vertical-align: middle;\n",
              "    }\n",
              "\n",
              "    .dataframe tbody tr th {\n",
              "        vertical-align: top;\n",
              "    }\n",
              "\n",
              "    .dataframe thead th {\n",
              "        text-align: right;\n",
              "    }\n",
              "</style>\n",
              "<table border=\"1\" class=\"dataframe\">\n",
              "  <thead>\n",
              "    <tr style=\"text-align: right;\">\n",
              "      <th></th>\n",
              "      <th>Queensboro Bridge(09)</th>\n",
              "      <th>Queensboro Bridge(10)</th>\n",
              "    </tr>\n",
              "    <tr>\n",
              "      <th>Day</th>\n",
              "      <th></th>\n",
              "      <th></th>\n",
              "    </tr>\n",
              "  </thead>\n",
              "  <tbody>\n",
              "    <tr>\n",
              "      <th>Friday</th>\n",
              "      <td>26577.0</td>\n",
              "      <td>32210</td>\n",
              "    </tr>\n",
              "    <tr>\n",
              "      <th>Monday</th>\n",
              "      <td>25765.0</td>\n",
              "      <td>21156</td>\n",
              "    </tr>\n",
              "    <tr>\n",
              "      <th>Saturday</th>\n",
              "      <td>23740.0</td>\n",
              "      <td>24253</td>\n",
              "    </tr>\n",
              "    <tr>\n",
              "      <th>Sunday</th>\n",
              "      <td>19502.0</td>\n",
              "      <td>21364</td>\n",
              "    </tr>\n",
              "    <tr>\n",
              "      <th>Thursday</th>\n",
              "      <td>30280.0</td>\n",
              "      <td>28331</td>\n",
              "    </tr>\n",
              "    <tr>\n",
              "      <th>Tuesday</th>\n",
              "      <td>27298.0</td>\n",
              "      <td>22044</td>\n",
              "    </tr>\n",
              "    <tr>\n",
              "      <th>Wednesday</th>\n",
              "      <td>30698.0</td>\n",
              "      <td>26386</td>\n",
              "    </tr>\n",
              "  </tbody>\n",
              "</table>\n",
              "</div>"
            ],
            "text/plain": [
              "           Queensboro Bridge(09)  Queensboro Bridge(10)\n",
              "Day                                                    \n",
              "Friday                   26577.0                  32210\n",
              "Monday                   25765.0                  21156\n",
              "Saturday                 23740.0                  24253\n",
              "Sunday                   19502.0                  21364\n",
              "Thursday                 30280.0                  28331\n",
              "Tuesday                  27298.0                  22044\n",
              "Wednesday                30698.0                  26386"
            ]
          },
          "metadata": {},
          "execution_count": 26
        }
      ]
    },
    {
      "cell_type": "code",
      "source": [
        "# ridership by weekly in each bridges\n",
        "weekly = ['Monday', 'Tuesday', 'Wednesday', 'Thursday','Friday','Saturday', 'Sunday']\n",
        "bklyn0910 = bklyn0910.reindex(index= weekly)\n",
        "manhattan0910 = manhattan0910.reindex(index= weekly)\n",
        "williams0910 = williams0910.reindex(index= weekly)\n",
        "queens0910 = queens0910.reindex(index= weekly)"
      ],
      "metadata": {
        "id": "bOvMcM-AjH59"
      },
      "execution_count": null,
      "outputs": []
    },
    {
      "cell_type": "code",
      "source": [
        "# visualize weekly riderships in September-October 2021\n",
        "fig, axs = plt.subplots(2,2, figsize=(15,15))\n",
        "axs[0,0].plot(bklyn0910.index, bklyn0910)\n",
        "axs[0,0].set_title('Brooklyn Bridge in September-October 2021')\n",
        "axs[0,1].plot(manhattan0910.index, manhattan0910)\n",
        "axs[0,1].set_title('Manhattan Bridge in September-October 2021')\n",
        "axs[1,0].plot(williams0910.index, williams0910)\n",
        "axs[1,0].set_title('Williamsburg Bridge in September-October 2021')\n",
        "axs[1,1].plot(queens0910.index, queens0910)\n",
        "axs[1,1].set_title('Queens Bridge in September-October 2021')\n",
        "\n",
        "labels = ['September', 'October']\n",
        "fig.legend([axs[0,0], axs[0,1], axs[1,0], axs[1,1]], labels=labels,\n",
        "           loc=\"upper right\", prop={\"size\":16})\n",
        "plt.show()"
      ],
      "metadata": {
        "id": "X_omK0KqjLJy",
        "colab": {
          "base_uri": "https://localhost:8080/",
          "height": 1000
        },
        "outputId": "528e7208-846f-4d30-96ce-ad2d40834eb7"
      },
      "execution_count": null,
      "outputs": [
        {
          "output_type": "stream",
          "name": "stderr",
          "text": [
            "/usr/local/lib/python3.7/dist-packages/ipykernel_launcher.py:14: UserWarning: You have mixed positional and keyword arguments, some input may be discarded.\n",
            "  \n"
          ]
        },
        {
          "output_type": "display_data",
          "data": {
            "image/png": "[encoded data removed]",
            "text/plain": [
              "<Figure size 1080x1080 with 4 Axes>"
            ]
          },
          "metadata": {
            "needs_background": "light"
          }
        }
      ]
    },
    {
      "cell_type": "code",
      "source": [
        "# citibike September data\n",
        "citibike = pd.read_csv('/content/drive/MyDrive/PUI project/data/citibike data/202109-citibike-tripdata.csv')\n",
        "citibike.head()"
      ],
      "metadata": {
        "id": "MfgWjaLHjNAe",
        "colab": {
          "base_uri": "https://localhost:8080/",
          "height": 434
        },
        "outputId": "e4643bdf-b8e3-40e1-8dc1-77672ce4b7c7"
      },
      "execution_count": null,
      "outputs": [
        {
          "output_type": "stream",
          "name": "stderr",
          "text": [
            "/usr/local/lib/python3.7/dist-packages/IPython/core/interactiveshell.py:2718: DtypeWarning: Columns (7) have mixed types.Specify dtype option on import or set low_memory=False.\n",
            "  interactivity=interactivity, compiler=compiler, result=result)\n"
          ]
        },
        {
          "output_type": "execute_result",
          "data": {
            "text/html": [
              "<div>\n",
              "<style scoped>\n",
              "    .dataframe tbody tr th:only-of-type {\n",
              "        vertical-align: middle;\n",
              "    }\n",
              "\n",
              "    .dataframe tbody tr th {\n",
              "        vertical-align: top;\n",
              "    }\n",
              "\n",
              "    .dataframe thead th {\n",
              "        text-align: right;\n",
              "    }\n",
              "</style>\n",
              "<table border=\"1\" class=\"dataframe\">\n",
              "  <thead>\n",
              "    <tr style=\"text-align: right;\">\n",
              "      <th></th>\n",
              "      <th>ride_id</th>\n",
              "      <th>rideable_type</th>\n",
              "      <th>started_at</th>\n",
              "      <th>ended_at</th>\n",
              "      <th>start_station_name</th>\n",
              "      <th>start_station_id</th>\n",
              "      <th>end_station_name</th>\n",
              "      <th>end_station_id</th>\n",
              "      <th>start_lat</th>\n",
              "      <th>start_lng</th>\n",
              "      <th>end_lat</th>\n",
              "      <th>end_lng</th>\n",
              "      <th>member_casual</th>\n",
              "    </tr>\n",
              "  </thead>\n",
              "  <tbody>\n",
              "    <tr>\n",
              "      <th>0</th>\n",
              "      <td>22C33F42C6A0E28E</td>\n",
              "      <td>classic_bike</td>\n",
              "      <td>2021-09-01 10:26:45</td>\n",
              "      <td>2021-09-01 10:43:23</td>\n",
              "      <td>Central Park West &amp; W 72 St</td>\n",
              "      <td>7141.07</td>\n",
              "      <td>E 51 St &amp; 1 Ave</td>\n",
              "      <td>6532.06</td>\n",
              "      <td>40.775794</td>\n",
              "      <td>-73.976206</td>\n",
              "      <td>40.754557</td>\n",
              "      <td>-73.965930</td>\n",
              "      <td>member</td>\n",
              "    </tr>\n",
              "    <tr>\n",
              "      <th>1</th>\n",
              "      <td>035F743147FCFCDE</td>\n",
              "      <td>classic_bike</td>\n",
              "      <td>2021-09-04 09:52:40</td>\n",
              "      <td>2021-09-04 10:09:19</td>\n",
              "      <td>William St &amp; Pine St</td>\n",
              "      <td>5065.12</td>\n",
              "      <td>NaN</td>\n",
              "      <td>NaN</td>\n",
              "      <td>40.707179</td>\n",
              "      <td>-74.008873</td>\n",
              "      <td>40.720000</td>\n",
              "      <td>-74.010000</td>\n",
              "      <td>member</td>\n",
              "    </tr>\n",
              "    <tr>\n",
              "      <th>2</th>\n",
              "      <td>9C43CF6A07DACBC6</td>\n",
              "      <td>classic_bike</td>\n",
              "      <td>2021-09-06 17:07:40</td>\n",
              "      <td>2021-09-06 17:34:44</td>\n",
              "      <td>Fulton St &amp; Broadway</td>\n",
              "      <td>5175.08</td>\n",
              "      <td>Jay St &amp; Tech Pl</td>\n",
              "      <td>4710.06</td>\n",
              "      <td>40.711066</td>\n",
              "      <td>-74.009447</td>\n",
              "      <td>40.695065</td>\n",
              "      <td>-73.987167</td>\n",
              "      <td>casual</td>\n",
              "    </tr>\n",
              "    <tr>\n",
              "      <th>3</th>\n",
              "      <td>253A1A5B20CC78EE</td>\n",
              "      <td>classic_bike</td>\n",
              "      <td>2021-09-28 16:53:43</td>\n",
              "      <td>2021-09-28 17:03:00</td>\n",
              "      <td>West Drive &amp; Prospect Park West</td>\n",
              "      <td>3651.04</td>\n",
              "      <td>Ocean Pkwy &amp; Church Ave</td>\n",
              "      <td>3125.09</td>\n",
              "      <td>40.661063</td>\n",
              "      <td>-73.979453</td>\n",
              "      <td>40.644719</td>\n",
              "      <td>-73.974515</td>\n",
              "      <td>member</td>\n",
              "    </tr>\n",
              "    <tr>\n",
              "      <th>4</th>\n",
              "      <td>5E8F164D6798CEFA</td>\n",
              "      <td>classic_bike</td>\n",
              "      <td>2021-09-19 09:37:47</td>\n",
              "      <td>2021-09-19 09:53:42</td>\n",
              "      <td>Lorimer St &amp; Broadway</td>\n",
              "      <td>4965.01</td>\n",
              "      <td>Jay St &amp; Tech Pl</td>\n",
              "      <td>4710.06</td>\n",
              "      <td>40.704118</td>\n",
              "      <td>-73.948186</td>\n",
              "      <td>40.695065</td>\n",
              "      <td>-73.987167</td>\n",
              "      <td>member</td>\n",
              "    </tr>\n",
              "  </tbody>\n",
              "</table>\n",
              "</div>"
            ],
            "text/plain": [
              "            ride_id rideable_type  ...    end_lng member_casual\n",
              "0  22C33F42C6A0E28E  classic_bike  ... -73.965930        member\n",
              "1  035F743147FCFCDE  classic_bike  ... -74.010000        member\n",
              "2  9C43CF6A07DACBC6  classic_bike  ... -73.987167        casual\n",
              "3  253A1A5B20CC78EE  classic_bike  ... -73.974515        member\n",
              "4  5E8F164D6798CEFA  classic_bike  ... -73.987167        member\n",
              "\n",
              "[5 rows x 13 columns]"
            ]
          },
          "metadata": {},
          "execution_count": 32
        }
      ]
    },
    {
      "cell_type": "code",
      "source": [
        "# timestamp types\n",
        "citibike['started_at'] = pd.to_datetime(citibike['started_at'])\n",
        "citibike['ended_at'] = pd.to_datetime(citibike['ended_at'])"
      ],
      "metadata": {
        "id": "cGXt1lOEnGog",
        "colab": {
          "base_uri": "https://localhost:8080/",
          "height": 201
        },
        "outputId": "b48529c6-2db8-4912-efb9-41994d1bb61e"
      },
      "execution_count": null,
      "outputs": [
        {
          "output_type": "error",
          "ename": "NameError",
          "evalue": "ignored",
          "traceback": [
            "\u001b[0;31m---------------------------------------------------------------------------\u001b[0m",
            "\u001b[0;31mNameError\u001b[0m                                 Traceback (most recent call last)",
            "\u001b[0;32m<ipython-input-1-5b5f84bb589b>\u001b[0m in \u001b[0;36m<module>\u001b[0;34m()\u001b[0m\n\u001b[1;32m      1\u001b[0m \u001b[0;31m# timestamp types\u001b[0m\u001b[0;34m\u001b[0m\u001b[0;34m\u001b[0m\u001b[0;34m\u001b[0m\u001b[0m\n\u001b[0;32m----> 2\u001b[0;31m \u001b[0mcitibike\u001b[0m\u001b[0;34m[\u001b[0m\u001b[0;34m'started_at'\u001b[0m\u001b[0;34m]\u001b[0m \u001b[0;34m=\u001b[0m \u001b[0mpd\u001b[0m\u001b[0;34m.\u001b[0m\u001b[0mto_datetime\u001b[0m\u001b[0;34m(\u001b[0m\u001b[0mcitibike\u001b[0m\u001b[0;34m[\u001b[0m\u001b[0;34m'started_at'\u001b[0m\u001b[0;34m]\u001b[0m\u001b[0;34m)\u001b[0m\u001b[0;34m\u001b[0m\u001b[0;34m\u001b[0m\u001b[0m\n\u001b[0m\u001b[1;32m      3\u001b[0m \u001b[0mcitibike\u001b[0m\u001b[0;34m[\u001b[0m\u001b[0;34m'ended_at'\u001b[0m\u001b[0;34m]\u001b[0m \u001b[0;34m=\u001b[0m \u001b[0mpd\u001b[0m\u001b[0;34m.\u001b[0m\u001b[0mto_datetime\u001b[0m\u001b[0;34m(\u001b[0m\u001b[0mcitibike\u001b[0m\u001b[0;34m[\u001b[0m\u001b[0;34m'ended_at'\u001b[0m\u001b[0;34m]\u001b[0m\u001b[0;34m)\u001b[0m\u001b[0;34m\u001b[0m\u001b[0;34m\u001b[0m\u001b[0m\n",
            "\u001b[0;31mNameError\u001b[0m: name 'pd' is not defined"
          ]
        }
      ]
    },
    {
      "cell_type": "code",
      "source": [
        "# extract date, year, day of the week and hour\n",
        "citibike['Date'] = citibike['started_at'].dt.date\n",
        "citibike['Month'] = citibike['started_at'].dt.month\n",
        "citibike['Year'] = citibike['started_at'].dt.year\n",
        "citibike['DOW'] = citibike['started_at'].dt.dayofweek\n",
        "citibike['Hour'] = citibike['started_at'].dt.hour"
      ],
      "metadata": {
        "id": "ulYg8deDnUC3"
      },
      "execution_count": null,
      "outputs": []
    },
    {
      "cell_type": "code",
      "source": [
        "# calculate trip duration in minutes\n",
        "citibike['trip_duration'] = (citibike['ended_at'] - citibike['started_at'])\n",
        "citibike['trip_duration'] = citibike['trip_duration'].dt.total_seconds()/60\n",
        "citibike.head()"
      ],
      "metadata": {
        "id": "FhjwBZvznHgZ",
        "colab": {
          "base_uri": "https://localhost:8080/",
          "height": 400
        },
        "outputId": "1e781eea-9123-4239-d209-35169cf54e50"
      },
      "execution_count": null,
      "outputs": [
        {
          "output_type": "execute_result",
          "data": {
            "text/html": [
              "<div>\n",
              "<style scoped>\n",
              "    .dataframe tbody tr th:only-of-type {\n",
              "        vertical-align: middle;\n",
              "    }\n",
              "\n",
              "    .dataframe tbody tr th {\n",
              "        vertical-align: top;\n",
              "    }\n",
              "\n",
              "    .dataframe thead th {\n",
              "        text-align: right;\n",
              "    }\n",
              "</style>\n",
              "<table border=\"1\" class=\"dataframe\">\n",
              "  <thead>\n",
              "    <tr style=\"text-align: right;\">\n",
              "      <th></th>\n",
              "      <th>ride_id</th>\n",
              "      <th>rideable_type</th>\n",
              "      <th>started_at</th>\n",
              "      <th>ended_at</th>\n",
              "      <th>start_station_name</th>\n",
              "      <th>start_station_id</th>\n",
              "      <th>end_station_name</th>\n",
              "      <th>end_station_id</th>\n",
              "      <th>start_lat</th>\n",
              "      <th>start_lng</th>\n",
              "      <th>end_lat</th>\n",
              "      <th>end_lng</th>\n",
              "      <th>member_casual</th>\n",
              "      <th>Date</th>\n",
              "      <th>Month</th>\n",
              "      <th>Year</th>\n",
              "      <th>DOW</th>\n",
              "      <th>Hour</th>\n",
              "      <th>trip_duration</th>\n",
              "    </tr>\n",
              "  </thead>\n",
              "  <tbody>\n",
              "    <tr>\n",
              "      <th>0</th>\n",
              "      <td>22C33F42C6A0E28E</td>\n",
              "      <td>classic_bike</td>\n",
              "      <td>2021-09-01 10:26:45</td>\n",
              "      <td>2021-09-01 10:43:23</td>\n",
              "      <td>Central Park West &amp; W 72 St</td>\n",
              "      <td>7141.07</td>\n",
              "      <td>E 51 St &amp; 1 Ave</td>\n",
              "      <td>6532.06</td>\n",
              "      <td>40.775794</td>\n",
              "      <td>-73.976206</td>\n",
              "      <td>40.754557</td>\n",
              "      <td>-73.965930</td>\n",
              "      <td>member</td>\n",
              "      <td>2021-09-01</td>\n",
              "      <td>9</td>\n",
              "      <td>2021</td>\n",
              "      <td>2</td>\n",
              "      <td>10</td>\n",
              "      <td>16.633333</td>\n",
              "    </tr>\n",
              "    <tr>\n",
              "      <th>1</th>\n",
              "      <td>035F743147FCFCDE</td>\n",
              "      <td>classic_bike</td>\n",
              "      <td>2021-09-04 09:52:40</td>\n",
              "      <td>2021-09-04 10:09:19</td>\n",
              "      <td>William St &amp; Pine St</td>\n",
              "      <td>5065.12</td>\n",
              "      <td>NaN</td>\n",
              "      <td>NaN</td>\n",
              "      <td>40.707179</td>\n",
              "      <td>-74.008873</td>\n",
              "      <td>40.720000</td>\n",
              "      <td>-74.010000</td>\n",
              "      <td>member</td>\n",
              "      <td>2021-09-04</td>\n",
              "      <td>9</td>\n",
              "      <td>2021</td>\n",
              "      <td>5</td>\n",
              "      <td>9</td>\n",
              "      <td>16.650000</td>\n",
              "    </tr>\n",
              "    <tr>\n",
              "      <th>2</th>\n",
              "      <td>9C43CF6A07DACBC6</td>\n",
              "      <td>classic_bike</td>\n",
              "      <td>2021-09-06 17:07:40</td>\n",
              "      <td>2021-09-06 17:34:44</td>\n",
              "      <td>Fulton St &amp; Broadway</td>\n",
              "      <td>5175.08</td>\n",
              "      <td>Jay St &amp; Tech Pl</td>\n",
              "      <td>4710.06</td>\n",
              "      <td>40.711066</td>\n",
              "      <td>-74.009447</td>\n",
              "      <td>40.695065</td>\n",
              "      <td>-73.987167</td>\n",
              "      <td>casual</td>\n",
              "      <td>2021-09-06</td>\n",
              "      <td>9</td>\n",
              "      <td>2021</td>\n",
              "      <td>0</td>\n",
              "      <td>17</td>\n",
              "      <td>27.066667</td>\n",
              "    </tr>\n",
              "    <tr>\n",
              "      <th>3</th>\n",
              "      <td>253A1A5B20CC78EE</td>\n",
              "      <td>classic_bike</td>\n",
              "      <td>2021-09-28 16:53:43</td>\n",
              "      <td>2021-09-28 17:03:00</td>\n",
              "      <td>West Drive &amp; Prospect Park West</td>\n",
              "      <td>3651.04</td>\n",
              "      <td>Ocean Pkwy &amp; Church Ave</td>\n",
              "      <td>3125.09</td>\n",
              "      <td>40.661063</td>\n",
              "      <td>-73.979453</td>\n",
              "      <td>40.644719</td>\n",
              "      <td>-73.974515</td>\n",
              "      <td>member</td>\n",
              "      <td>2021-09-28</td>\n",
              "      <td>9</td>\n",
              "      <td>2021</td>\n",
              "      <td>1</td>\n",
              "      <td>16</td>\n",
              "      <td>9.283333</td>\n",
              "    </tr>\n",
              "    <tr>\n",
              "      <th>4</th>\n",
              "      <td>5E8F164D6798CEFA</td>\n",
              "      <td>classic_bike</td>\n",
              "      <td>2021-09-19 09:37:47</td>\n",
              "      <td>2021-09-19 09:53:42</td>\n",
              "      <td>Lorimer St &amp; Broadway</td>\n",
              "      <td>4965.01</td>\n",
              "      <td>Jay St &amp; Tech Pl</td>\n",
              "      <td>4710.06</td>\n",
              "      <td>40.704118</td>\n",
              "      <td>-73.948186</td>\n",
              "      <td>40.695065</td>\n",
              "      <td>-73.987167</td>\n",
              "      <td>member</td>\n",
              "      <td>2021-09-19</td>\n",
              "      <td>9</td>\n",
              "      <td>2021</td>\n",
              "      <td>6</td>\n",
              "      <td>9</td>\n",
              "      <td>15.916667</td>\n",
              "    </tr>\n",
              "  </tbody>\n",
              "</table>\n",
              "</div>"
            ],
            "text/plain": [
              "            ride_id rideable_type          started_at  ... DOW Hour  trip_duration\n",
              "0  22C33F42C6A0E28E  classic_bike 2021-09-01 10:26:45  ...   2   10      16.633333\n",
              "1  035F743147FCFCDE  classic_bike 2021-09-04 09:52:40  ...   5    9      16.650000\n",
              "2  9C43CF6A07DACBC6  classic_bike 2021-09-06 17:07:40  ...   0   17      27.066667\n",
              "3  253A1A5B20CC78EE  classic_bike 2021-09-28 16:53:43  ...   1   16       9.283333\n",
              "4  5E8F164D6798CEFA  classic_bike 2021-09-19 09:37:47  ...   6    9      15.916667\n",
              "\n",
              "[5 rows x 19 columns]"
            ]
          },
          "metadata": {},
          "execution_count": 40
        }
      ]
    },
    {
      "cell_type": "code",
      "source": [
        "# daily total trip counts and cumulative duration and distance traveled\n",
        "citibikeDaily = citibike.groupby(['Year','Month','DOW','Date','Hour','start_lat', 'start_lng', 'end_lat', 'end_lng']).\\\n",
        "            agg({'started_at':'count','trip_duration':'sum'}).\\\n",
        "            rename(columns={'started_at':'trip_count'}).reset_index()\n",
        "citibikeDaily = citibikeDaily = citibikeDaily.sort_values(by='Date')\n",
        "citibikeDaily.head()"
      ],
      "metadata": {
        "id": "ARq0ab4GnYlD",
        "colab": {
          "base_uri": "https://localhost:8080/",
          "height": 206
        },
        "outputId": "8c865842-8226-4b1c-c226-261b772206a6"
      },
      "execution_count": null,
      "outputs": [
        {
          "output_type": "execute_result",
          "data": {
            "text/html": [
              "<div>\n",
              "<style scoped>\n",
              "    .dataframe tbody tr th:only-of-type {\n",
              "        vertical-align: middle;\n",
              "    }\n",
              "\n",
              "    .dataframe tbody tr th {\n",
              "        vertical-align: top;\n",
              "    }\n",
              "\n",
              "    .dataframe thead th {\n",
              "        text-align: right;\n",
              "    }\n",
              "</style>\n",
              "<table border=\"1\" class=\"dataframe\">\n",
              "  <thead>\n",
              "    <tr style=\"text-align: right;\">\n",
              "      <th></th>\n",
              "      <th>Year</th>\n",
              "      <th>Month</th>\n",
              "      <th>DOW</th>\n",
              "      <th>Date</th>\n",
              "      <th>Hour</th>\n",
              "      <th>start_lat</th>\n",
              "      <th>start_lng</th>\n",
              "      <th>end_lat</th>\n",
              "      <th>end_lng</th>\n",
              "      <th>trip_count</th>\n",
              "      <th>trip_duration</th>\n",
              "    </tr>\n",
              "  </thead>\n",
              "  <tbody>\n",
              "    <tr>\n",
              "      <th>778754</th>\n",
              "      <td>2021</td>\n",
              "      <td>9</td>\n",
              "      <td>2</td>\n",
              "      <td>2021-09-01</td>\n",
              "      <td>8</td>\n",
              "      <td>40.723180</td>\n",
              "      <td>-73.994800</td>\n",
              "      <td>40.743943</td>\n",
              "      <td>-73.979661</td>\n",
              "      <td>1</td>\n",
              "      <td>10.683333</td>\n",
              "    </tr>\n",
              "    <tr>\n",
              "      <th>787375</th>\n",
              "      <td>2021</td>\n",
              "      <td>9</td>\n",
              "      <td>2</td>\n",
              "      <td>2021-09-01</td>\n",
              "      <td>11</td>\n",
              "      <td>40.751184</td>\n",
              "      <td>-73.971387</td>\n",
              "      <td>40.752062</td>\n",
              "      <td>-73.981632</td>\n",
              "      <td>1</td>\n",
              "      <td>17.266667</td>\n",
              "    </tr>\n",
              "    <tr>\n",
              "      <th>787374</th>\n",
              "      <td>2021</td>\n",
              "      <td>9</td>\n",
              "      <td>2</td>\n",
              "      <td>2021-09-01</td>\n",
              "      <td>11</td>\n",
              "      <td>40.751184</td>\n",
              "      <td>-73.971387</td>\n",
              "      <td>40.743227</td>\n",
              "      <td>-73.974498</td>\n",
              "      <td>1</td>\n",
              "      <td>5.666667</td>\n",
              "    </tr>\n",
              "    <tr>\n",
              "      <th>787373</th>\n",
              "      <td>2021</td>\n",
              "      <td>9</td>\n",
              "      <td>2</td>\n",
              "      <td>2021-09-01</td>\n",
              "      <td>11</td>\n",
              "      <td>40.751102</td>\n",
              "      <td>-73.940737</td>\n",
              "      <td>40.777057</td>\n",
              "      <td>-73.978985</td>\n",
              "      <td>1</td>\n",
              "      <td>19.316667</td>\n",
              "    </tr>\n",
              "    <tr>\n",
              "      <th>787372</th>\n",
              "      <td>2021</td>\n",
              "      <td>9</td>\n",
              "      <td>2</td>\n",
              "      <td>2021-09-01</td>\n",
              "      <td>11</td>\n",
              "      <td>40.751102</td>\n",
              "      <td>-73.940737</td>\n",
              "      <td>40.759125</td>\n",
              "      <td>-73.962658</td>\n",
              "      <td>1</td>\n",
              "      <td>7.866667</td>\n",
              "    </tr>\n",
              "  </tbody>\n",
              "</table>\n",
              "</div>"
            ],
            "text/plain": [
              "        Year  Month  DOW  ...    end_lng  trip_count  trip_duration\n",
              "778754  2021      9    2  ... -73.979661           1      10.683333\n",
              "787375  2021      9    2  ... -73.981632           1      17.266667\n",
              "787374  2021      9    2  ... -73.974498           1       5.666667\n",
              "787373  2021      9    2  ... -73.978985           1      19.316667\n",
              "787372  2021      9    2  ... -73.962658           1       7.866667\n",
              "\n",
              "[5 rows x 11 columns]"
            ]
          },
          "metadata": {},
          "execution_count": 46
        }
      ]
    },
    {
      "cell_type": "code",
      "source": [
        "# read NYC geopandas\n",
        "boroboundaries = gpd.read_file('/content/drive/MyDrive/PUI project/data/BoroughBoundaries')\n",
        "boroboundaries.head()"
      ],
      "metadata": {
        "id": "rBgXa0ETjPdQ",
        "colab": {
          "base_uri": "https://localhost:8080/",
          "height": 206
        },
        "outputId": "2fa7e459-7ab0-44f1-e27f-2f65d3279085"
      },
      "execution_count": null,
      "outputs": [
        {
          "output_type": "execute_result",
          "data": {
            "text/html": [
              "<div>\n",
              "<style scoped>\n",
              "    .dataframe tbody tr th:only-of-type {\n",
              "        vertical-align: middle;\n",
              "    }\n",
              "\n",
              "    .dataframe tbody tr th {\n",
              "        vertical-align: top;\n",
              "    }\n",
              "\n",
              "    .dataframe thead th {\n",
              "        text-align: right;\n",
              "    }\n",
              "</style>\n",
              "<table border=\"1\" class=\"dataframe\">\n",
              "  <thead>\n",
              "    <tr style=\"text-align: right;\">\n",
              "      <th></th>\n",
              "      <th>boro_code</th>\n",
              "      <th>boro_name</th>\n",
              "      <th>shape_area</th>\n",
              "      <th>shape_leng</th>\n",
              "      <th>geometry</th>\n",
              "    </tr>\n",
              "  </thead>\n",
              "  <tbody>\n",
              "    <tr>\n",
              "      <th>0</th>\n",
              "      <td>1.0</td>\n",
              "      <td>Manhattan</td>\n",
              "      <td>6.366208e+08</td>\n",
              "      <td>359993.127161</td>\n",
              "      <td>MULTIPOLYGON (((-74.01093 40.68449, -74.01193 ...</td>\n",
              "    </tr>\n",
              "    <tr>\n",
              "      <th>1</th>\n",
              "      <td>2.0</td>\n",
              "      <td>Bronx</td>\n",
              "      <td>1.187194e+09</td>\n",
              "      <td>463868.935588</td>\n",
              "      <td>MULTIPOLYGON (((-73.89681 40.79581, -73.89694 ...</td>\n",
              "    </tr>\n",
              "    <tr>\n",
              "      <th>2</th>\n",
              "      <td>3.0</td>\n",
              "      <td>Brooklyn</td>\n",
              "      <td>1.934174e+09</td>\n",
              "      <td>728195.194837</td>\n",
              "      <td>MULTIPOLYGON (((-73.86327 40.58388, -73.86381 ...</td>\n",
              "    </tr>\n",
              "    <tr>\n",
              "      <th>3</th>\n",
              "      <td>5.0</td>\n",
              "      <td>Staten Island</td>\n",
              "      <td>1.623631e+09</td>\n",
              "      <td>325924.002252</td>\n",
              "      <td>MULTIPOLYGON (((-74.05051 40.56642, -74.05047 ...</td>\n",
              "    </tr>\n",
              "    <tr>\n",
              "      <th>4</th>\n",
              "      <td>4.0</td>\n",
              "      <td>Queens</td>\n",
              "      <td>3.040206e+09</td>\n",
              "      <td>900269.281914</td>\n",
              "      <td>MULTIPOLYGON (((-73.82645 40.59053, -73.82642 ...</td>\n",
              "    </tr>\n",
              "  </tbody>\n",
              "</table>\n",
              "</div>"
            ],
            "text/plain": [
              "   boro_code  ...                                           geometry\n",
              "0        1.0  ...  MULTIPOLYGON (((-74.01093 40.68449, -74.01193 ...\n",
              "1        2.0  ...  MULTIPOLYGON (((-73.89681 40.79581, -73.89694 ...\n",
              "2        3.0  ...  MULTIPOLYGON (((-73.86327 40.58388, -73.86381 ...\n",
              "3        5.0  ...  MULTIPOLYGON (((-74.05051 40.56642, -74.05047 ...\n",
              "4        4.0  ...  MULTIPOLYGON (((-73.82645 40.59053, -73.82642 ...\n",
              "\n",
              "[5 rows x 5 columns]"
            ]
          },
          "metadata": {},
          "execution_count": 30
        }
      ]
    },
    {
      "cell_type": "code",
      "source": [
        "# find most common start and end routes\n",
        "import folium\n",
        "citibike_sub = citibike[['start_station_name', 'end_station_name', 'start_lat', 'start_lng', 'end_lat', 'end_lng']]\n",
        "citibike_sub['both'] = citibike_sub['start_station_name'] + ',' + citibike_sub['end_station_name']\n",
        "citibike_sub = citibike_sub.groupby(['start_station_name','start_lat', 'start_lng', 'end_station_name', 'end_lat','end_lng'])['both'].count().reset_index(name='Counts of trips')\n",
        "\n",
        "citibike_sub = citibike_sub.nsmallest(100, columns=['Counts of trips'])"
      ],
      "metadata": {
        "id": "h17OmyBJjVhj",
        "colab": {
          "base_uri": "https://localhost:8080/"
        },
        "outputId": "7c4b4013-23f4-4ee5-dee0-0a0784afe5d0"
      },
      "execution_count": null,
      "outputs": [
        {
          "output_type": "stream",
          "name": "stderr",
          "text": [
            "/usr/local/lib/python3.7/dist-packages/ipykernel_launcher.py:4: SettingWithCopyWarning: \n",
            "A value is trying to be set on a copy of a slice from a DataFrame.\n",
            "Try using .loc[row_indexer,col_indexer] = value instead\n",
            "\n",
            "See the caveats in the documentation: https://pandas.pydata.org/pandas-docs/stable/user_guide/indexing.html#returning-a-view-versus-a-copy\n",
            "  after removing the cwd from sys.path.\n"
          ]
        }
      ]
    },
    {
      "cell_type": "code",
      "source": [
        "map1 = folium.Map(\n",
        "    location=[40.732775,-74.105973],\n",
        "    tiles='cartodbpositron',\n",
        "    zoom_start= 12,\n",
        ")\n",
        "\n",
        "citibike_sub.apply(lambda row:folium.CircleMarker(location=[row[\"end_lat\"], row[\"end_lng\"]], popup=row[\"end_station_name\"],radius=5, color=\"Red\").add_to(map1), axis=1)\n",
        "citibike_sub.apply(lambda row:folium.CircleMarker(location=[row[\"start_lat\"], row[\"start_lng\"]],popup=row[\"start_station_name\"]).add_to(map1), axis=1)\n",
        "map1\n",
        "\n",
        "folium.Choropleth(\n",
        "    geo_data=boroboundaries,\n",
        "    fill_color= '#d5e2f2'\n",
        "    \n",
        ").add_to(map1)\n",
        "\n",
        "folium.LayerControl().add_to(map1)\n",
        "map1"
      ],
      "metadata": {
        "id": "LBK70lesjYDo"
      },
      "execution_count": null,
      "outputs": []
    },
    {
      "cell_type": "code",
      "source": [
        "# Citibike October data\n",
        "citibike2 = pd.read_csv('/content/drive/MyDrive/PUI project/data/citibike data/202110-citibike-tripdata.csv')\n",
        "citibike2.head()"
      ],
      "metadata": {
        "id": "BtaVoa0jjaam",
        "colab": {
          "base_uri": "https://localhost:8080/",
          "height": 434
        },
        "outputId": "941b0595-c012-4c3f-9d6b-d8a6bcc16aa5"
      },
      "execution_count": null,
      "outputs": [
        {
          "output_type": "stream",
          "name": "stderr",
          "text": [
            "/usr/local/lib/python3.7/dist-packages/IPython/core/interactiveshell.py:2718: DtypeWarning: Columns (5,7) have mixed types.Specify dtype option on import or set low_memory=False.\n",
            "  interactivity=interactivity, compiler=compiler, result=result)\n"
          ]
        },
        {
          "output_type": "execute_result",
          "data": {
            "text/html": [
              "<div>\n",
              "<style scoped>\n",
              "    .dataframe tbody tr th:only-of-type {\n",
              "        vertical-align: middle;\n",
              "    }\n",
              "\n",
              "    .dataframe tbody tr th {\n",
              "        vertical-align: top;\n",
              "    }\n",
              "\n",
              "    .dataframe thead th {\n",
              "        text-align: right;\n",
              "    }\n",
              "</style>\n",
              "<table border=\"1\" class=\"dataframe\">\n",
              "  <thead>\n",
              "    <tr style=\"text-align: right;\">\n",
              "      <th></th>\n",
              "      <th>ride_id</th>\n",
              "      <th>rideable_type</th>\n",
              "      <th>started_at</th>\n",
              "      <th>ended_at</th>\n",
              "      <th>start_station_name</th>\n",
              "      <th>start_station_id</th>\n",
              "      <th>end_station_name</th>\n",
              "      <th>end_station_id</th>\n",
              "      <th>start_lat</th>\n",
              "      <th>start_lng</th>\n",
              "      <th>end_lat</th>\n",
              "      <th>end_lng</th>\n",
              "      <th>member_casual</th>\n",
              "    </tr>\n",
              "  </thead>\n",
              "  <tbody>\n",
              "    <tr>\n",
              "      <th>0</th>\n",
              "      <td>353AEA9949A68D49</td>\n",
              "      <td>classic_bike</td>\n",
              "      <td>2021-10-16 12:27:00</td>\n",
              "      <td>2021-10-16 12:45:24</td>\n",
              "      <td>University Pl &amp; E 14 St</td>\n",
              "      <td>5905.14</td>\n",
              "      <td>Franklin St &amp; W Broadway</td>\n",
              "      <td>5430.08</td>\n",
              "      <td>40.734814</td>\n",
              "      <td>-73.992085</td>\n",
              "      <td>40.719116</td>\n",
              "      <td>-74.006667</td>\n",
              "      <td>casual</td>\n",
              "    </tr>\n",
              "    <tr>\n",
              "      <th>1</th>\n",
              "      <td>4E99F036F7FE3B62</td>\n",
              "      <td>classic_bike</td>\n",
              "      <td>2021-10-18 16:51:23</td>\n",
              "      <td>2021-10-18 17:19:29</td>\n",
              "      <td>Broadway &amp; Roebling St</td>\n",
              "      <td>5125.07</td>\n",
              "      <td>Sands St Gate</td>\n",
              "      <td>4812.04</td>\n",
              "      <td>40.709248</td>\n",
              "      <td>-73.960631</td>\n",
              "      <td>40.699569</td>\n",
              "      <td>-73.979827</td>\n",
              "      <td>casual</td>\n",
              "    </tr>\n",
              "    <tr>\n",
              "      <th>2</th>\n",
              "      <td>2CE9D0504402418A</td>\n",
              "      <td>classic_bike</td>\n",
              "      <td>2021-10-05 13:31:27</td>\n",
              "      <td>2021-10-05 13:47:07</td>\n",
              "      <td>University Pl &amp; E 14 St</td>\n",
              "      <td>5905.14</td>\n",
              "      <td>Franklin St &amp; W Broadway</td>\n",
              "      <td>5430.08</td>\n",
              "      <td>40.734814</td>\n",
              "      <td>-73.992085</td>\n",
              "      <td>40.719116</td>\n",
              "      <td>-74.006667</td>\n",
              "      <td>casual</td>\n",
              "    </tr>\n",
              "    <tr>\n",
              "      <th>3</th>\n",
              "      <td>354BB2C25D2FE2DB</td>\n",
              "      <td>classic_bike</td>\n",
              "      <td>2021-10-15 08:28:43</td>\n",
              "      <td>2021-10-15 08:36:37</td>\n",
              "      <td>University Pl &amp; E 14 St</td>\n",
              "      <td>5905.14</td>\n",
              "      <td>8 Ave &amp; W 16 St</td>\n",
              "      <td>6072.11</td>\n",
              "      <td>40.734814</td>\n",
              "      <td>-73.992085</td>\n",
              "      <td>40.740983</td>\n",
              "      <td>-74.001702</td>\n",
              "      <td>casual</td>\n",
              "    </tr>\n",
              "    <tr>\n",
              "      <th>4</th>\n",
              "      <td>0211ADD9F91AC315</td>\n",
              "      <td>classic_bike</td>\n",
              "      <td>2021-10-10 00:25:16</td>\n",
              "      <td>2021-10-10 01:04:26</td>\n",
              "      <td>Metropolitan Ave &amp; Meeker Ave</td>\n",
              "      <td>5300.05</td>\n",
              "      <td>Sands St Gate</td>\n",
              "      <td>4812.04</td>\n",
              "      <td>40.714133</td>\n",
              "      <td>-73.952344</td>\n",
              "      <td>40.699569</td>\n",
              "      <td>-73.979827</td>\n",
              "      <td>casual</td>\n",
              "    </tr>\n",
              "  </tbody>\n",
              "</table>\n",
              "</div>"
            ],
            "text/plain": [
              "            ride_id rideable_type  ...    end_lng member_casual\n",
              "0  353AEA9949A68D49  classic_bike  ... -74.006667        casual\n",
              "1  4E99F036F7FE3B62  classic_bike  ... -73.979827        casual\n",
              "2  2CE9D0504402418A  classic_bike  ... -74.006667        casual\n",
              "3  354BB2C25D2FE2DB  classic_bike  ... -74.001702        casual\n",
              "4  0211ADD9F91AC315  classic_bike  ... -73.979827        casual\n",
              "\n",
              "[5 rows x 13 columns]"
            ]
          },
          "metadata": {},
          "execution_count": 35
        }
      ]
    },
    {
      "cell_type": "code",
      "source": [
        "# find most common routes in October\n",
        "citibike_sub2 = citibike2[['start_station_name', 'end_station_name', 'start_lat', 'start_lng', 'end_lat', 'end_lng']]\n",
        "citibike_sub2['both'] = citibike_sub2['start_station_name'] + ',' + citibike_sub2['end_station_name']\n",
        "citibike_sub2 = citibike_sub2.groupby(['start_station_name','start_lat', 'start_lng', 'end_station_name', 'end_lat','end_lng'])['both'].count().reset_index(name='Counts of trips')\n",
        "\n",
        "citibike_sub2 = citibike_sub2.nsmallest(100, columns=['Counts of trips'])"
      ],
      "metadata": {
        "id": "MDS8uEBkjcbz",
        "colab": {
          "base_uri": "https://localhost:8080/"
        },
        "outputId": "3fa4b7c9-8f60-42fb-cd00-20a7e72fcccc"
      },
      "execution_count": null,
      "outputs": [
        {
          "output_type": "stream",
          "name": "stderr",
          "text": [
            "/usr/local/lib/python3.7/dist-packages/ipykernel_launcher.py:3: SettingWithCopyWarning: \n",
            "A value is trying to be set on a copy of a slice from a DataFrame.\n",
            "Try using .loc[row_indexer,col_indexer] = value instead\n",
            "\n",
            "See the caveats in the documentation: https://pandas.pydata.org/pandas-docs/stable/user_guide/indexing.html#returning-a-view-versus-a-copy\n",
            "  This is separate from the ipykernel package so we can avoid doing imports until\n"
          ]
        }
      ]
    },
    {
      "cell_type": "code",
      "source": [
        "# visualize most common routes in October\n",
        "map2 = folium.Map(\n",
        "\n",
        "    location=[40.732775,-74.105973],\n",
        "    tiles='cartodbpositron',\n",
        "    zoom_start= 12,\n",
        ")\n",
        "citibike_sub2.apply(lambda row:folium.CircleMarker(location=[row[\"end_lat\"], row[\"end_lng\"]], popup=row[\"end_station_name\"],radius=5, color=\"Red\").add_to(map2), axis=1)\n",
        "citibike_sub2.apply(lambda row:folium.CircleMarker(location=[row[\"start_lat\"], row[\"start_lng\"]],popup=row[\"start_station_name\"]).add_to(map2), axis=1)\n",
        "map2\n",
        "\n",
        "folium.Choropleth(\n",
        "    geo_data=boroboundaries,\n",
        "    # data= map1,\n",
        "    fill_color= '#d5e2f2'\n",
        "    \n",
        ").add_to(map2)\n",
        "\n",
        "folium.LayerControl().add_to(map1)\n",
        "map2"
      ],
      "metadata": {
        "id": "fwZLA1EBjeXz"
      },
      "execution_count": null,
      "outputs": []
    },
    {
      "cell_type": "markdown",
      "metadata": {
        "id": "vHt_yhIM-DBt"
      },
      "source": [
        "### 5. Has there been a change in public trasportation traffic volume in the three bridges?"
      ]
    },
    {
      "cell_type": "code",
      "execution_count": null,
      "metadata": {
        "colab": {
          "base_uri": "https://localhost:8080/",
          "height": 493
        },
        "id": "XHxhpDoVtib2",
        "outputId": "55117aa6-fbde-4010-d492-889461a38f02"
      },
      "outputs": [
        {
          "output_type": "execute_result",
          "data": {
            "text/html": [
              "<div>\n",
              "<style scoped>\n",
              "    .dataframe tbody tr th:only-of-type {\n",
              "        vertical-align: middle;\n",
              "    }\n",
              "\n",
              "    .dataframe tbody tr th {\n",
              "        vertical-align: top;\n",
              "    }\n",
              "\n",
              "    .dataframe thead th {\n",
              "        text-align: right;\n",
              "    }\n",
              "</style>\n",
              "<table border=\"1\" class=\"dataframe\">\n",
              "  <thead>\n",
              "    <tr style=\"text-align: right;\">\n",
              "      <th></th>\n",
              "      <th>Date</th>\n",
              "      <th>Subways: Total Estimated Ridership</th>\n",
              "      <th>Subways: % of Comparable Pre-Pandemic Day</th>\n",
              "      <th>Buses: Total Estimated Ridership</th>\n",
              "      <th>Buses: % of Comparable Pre-Pandemic Day</th>\n",
              "      <th>LIRR: Total Estimated Ridership</th>\n",
              "      <th>LIRR: % of 2019 Monthly Weekday/Saturday/Sunday Average</th>\n",
              "      <th>Metro-North: Total Estimated Ridership</th>\n",
              "      <th>Metro-North: % of 2019 Monthly Weekday/Saturday/Sunday Average</th>\n",
              "      <th>Access-A-Ride: Total Scheduled Trips</th>\n",
              "      <th>Access-A-Ride: % of Comprable Pre-Pandemic Day</th>\n",
              "      <th>Bridges and Tunnels: Total Traffic</th>\n",
              "      <th>Bridges and Tunnels: % of Comparable Pre-Pandemic Day</th>\n",
              "    </tr>\n",
              "  </thead>\n",
              "  <tbody>\n",
              "    <tr>\n",
              "      <th>0</th>\n",
              "      <td>12/6/2021</td>\n",
              "      <td>3138747</td>\n",
              "      <td>55.8%</td>\n",
              "      <td>1269568</td>\n",
              "      <td>61.7%</td>\n",
              "      <td>155000.0</td>\n",
              "      <td>53%</td>\n",
              "      <td>127300.0</td>\n",
              "      <td>48%</td>\n",
              "      <td>21761</td>\n",
              "      <td>72.8%</td>\n",
              "      <td>865595</td>\n",
              "      <td>98.8%</td>\n",
              "    </tr>\n",
              "    <tr>\n",
              "      <th>1</th>\n",
              "      <td>12/5/2021</td>\n",
              "      <td>1736742</td>\n",
              "      <td>65.0%</td>\n",
              "      <td>645646</td>\n",
              "      <td>62.4%</td>\n",
              "      <td>72700.0</td>\n",
              "      <td>78%</td>\n",
              "      <td>60500.0</td>\n",
              "      <td>75%</td>\n",
              "      <td>12541</td>\n",
              "      <td>63.9%</td>\n",
              "      <td>818544</td>\n",
              "      <td>99.1%</td>\n",
              "    </tr>\n",
              "    <tr>\n",
              "      <th>2</th>\n",
              "      <td>12/4/2021</td>\n",
              "      <td>2317562</td>\n",
              "      <td>65.7%</td>\n",
              "      <td>849763</td>\n",
              "      <td>64.3%</td>\n",
              "      <td>91500.0</td>\n",
              "      <td>81%</td>\n",
              "      <td>81400.0</td>\n",
              "      <td>84%</td>\n",
              "      <td>13317</td>\n",
              "      <td>71.9%</td>\n",
              "      <td>864918</td>\n",
              "      <td>96.5%</td>\n",
              "    </tr>\n",
              "    <tr>\n",
              "      <th>3</th>\n",
              "      <td>12/3/2021</td>\n",
              "      <td>3379773</td>\n",
              "      <td>56.7%</td>\n",
              "      <td>1399077</td>\n",
              "      <td>63.6%</td>\n",
              "      <td>144500.0</td>\n",
              "      <td>48%</td>\n",
              "      <td>119400.0</td>\n",
              "      <td>44%</td>\n",
              "      <td>22518</td>\n",
              "      <td>72.7%</td>\n",
              "      <td>940827</td>\n",
              "      <td>96.2%</td>\n",
              "    </tr>\n",
              "    <tr>\n",
              "      <th>4</th>\n",
              "      <td>12/2/2021</td>\n",
              "      <td>3365213</td>\n",
              "      <td>55.4%</td>\n",
              "      <td>1436854</td>\n",
              "      <td>62.9%</td>\n",
              "      <td>154700.0</td>\n",
              "      <td>54%</td>\n",
              "      <td>127500.0</td>\n",
              "      <td>49%</td>\n",
              "      <td>22540</td>\n",
              "      <td>68.5%</td>\n",
              "      <td>923179</td>\n",
              "      <td>95.7%</td>\n",
              "    </tr>\n",
              "    <tr>\n",
              "      <th>...</th>\n",
              "      <td>...</td>\n",
              "      <td>...</td>\n",
              "      <td>...</td>\n",
              "      <td>...</td>\n",
              "      <td>...</td>\n",
              "      <td>...</td>\n",
              "      <td>...</td>\n",
              "      <td>...</td>\n",
              "      <td>...</td>\n",
              "      <td>...</td>\n",
              "      <td>...</td>\n",
              "      <td>...</td>\n",
              "      <td>...</td>\n",
              "    </tr>\n",
              "    <tr>\n",
              "      <th>610</th>\n",
              "      <td>4/5/2020</td>\n",
              "      <td>227603</td>\n",
              "      <td>9.1%</td>\n",
              "      <td>299600</td>\n",
              "      <td>30%</td>\n",
              "      <td>3000.0</td>\n",
              "      <td>3%</td>\n",
              "      <td>5600.0</td>\n",
              "      <td>5%</td>\n",
              "      <td>2763</td>\n",
              "      <td>14.4%</td>\n",
              "      <td>209152</td>\n",
              "      <td>23.4%</td>\n",
              "    </tr>\n",
              "    <tr>\n",
              "      <th>611</th>\n",
              "      <td>4/4/2020</td>\n",
              "      <td>282703</td>\n",
              "      <td>8.6%</td>\n",
              "      <td>383400</td>\n",
              "      <td>27%</td>\n",
              "      <td>3700.0</td>\n",
              "      <td>3%</td>\n",
              "      <td>8100.0</td>\n",
              "      <td>5%</td>\n",
              "      <td>4375</td>\n",
              "      <td>24.5%</td>\n",
              "      <td>243323</td>\n",
              "      <td>26.0%</td>\n",
              "    </tr>\n",
              "    <tr>\n",
              "      <th>612</th>\n",
              "      <td>4/3/2020</td>\n",
              "      <td>484200</td>\n",
              "      <td>8.5%</td>\n",
              "      <td>483800</td>\n",
              "      <td>22%</td>\n",
              "      <td>9700.0</td>\n",
              "      <td>3%</td>\n",
              "      <td>13200.0</td>\n",
              "      <td>5%</td>\n",
              "      <td>7794</td>\n",
              "      <td>27.3%</td>\n",
              "      <td>340273</td>\n",
              "      <td>34.9%</td>\n",
              "    </tr>\n",
              "    <tr>\n",
              "      <th>613</th>\n",
              "      <td>4/2/2020</td>\n",
              "      <td>486468</td>\n",
              "      <td>8.2%</td>\n",
              "      <td>472700</td>\n",
              "      <td>20%</td>\n",
              "      <td>10100.0</td>\n",
              "      <td>3%</td>\n",
              "      <td>13700.0</td>\n",
              "      <td>5%</td>\n",
              "      <td>7077</td>\n",
              "      <td>22.5%</td>\n",
              "      <td>339734</td>\n",
              "      <td>34.8%</td>\n",
              "    </tr>\n",
              "    <tr>\n",
              "      <th>614</th>\n",
              "      <td>4/1/2020</td>\n",
              "      <td>514201</td>\n",
              "      <td>8.7%</td>\n",
              "      <td>495400</td>\n",
              "      <td>21%</td>\n",
              "      <td>10500.0</td>\n",
              "      <td>3%</td>\n",
              "      <td>13600.0</td>\n",
              "      <td>5%</td>\n",
              "      <td>8151</td>\n",
              "      <td>25.2%</td>\n",
              "      <td>342222</td>\n",
              "      <td>36.7%</td>\n",
              "    </tr>\n",
              "  </tbody>\n",
              "</table>\n",
              "<p>614 rows × 13 columns</p>\n",
              "</div>"
            ],
            "text/plain": [
              "          Date  ...  Bridges and Tunnels: % of Comparable Pre-Pandemic Day\n",
              "0    12/6/2021  ...                                              98.8%    \n",
              "1    12/5/2021  ...                                              99.1%    \n",
              "2    12/4/2021  ...                                              96.5%    \n",
              "3    12/3/2021  ...                                              96.2%    \n",
              "4    12/2/2021  ...                                              95.7%    \n",
              "..         ...  ...                                                ...    \n",
              "610   4/5/2020  ...                                              23.4%    \n",
              "611   4/4/2020  ...                                              26.0%    \n",
              "612   4/3/2020  ...                                              34.9%    \n",
              "613   4/2/2020  ...                                              34.8%    \n",
              "614   4/1/2020  ...                                              36.7%    \n",
              "\n",
              "[614 rows x 13 columns]"
            ]
          },
          "metadata": {},
          "execution_count": 4
        }
      ],
      "source": [
        "\n",
        "MTA = pd.read_csv('/content/drive/MyDrive/data/MTA_recent_ridership_data_20211206.csv')\n",
        "MTA.dropna(inplace=True)\n",
        "MTA\n"
      ]
    },
    {
      "cell_type": "code",
      "execution_count": null,
      "metadata": {
        "id": "gN-ddh-g9FUu"
      },
      "outputs": [],
      "source": [
        "# Creating two new columns from the Date column\n",
        "MTA['Year'] = pd.to_datetime(MTA['Date']).dt.year\n",
        "MTA['Month'] = pd.to_datetime(MTA['Date']).dt.month"
      ]
    },
    {
      "cell_type": "code",
      "source": [
        "# Taking only the features we need to use\n",
        "MTA = MTA[['Year', 'Month', 'Bridges and Tunnels: Total Traffic']]\n",
        "MTA"
      ],
      "metadata": {
        "colab": {
          "base_uri": "https://localhost:8080/",
          "height": 424
        },
        "id": "jB7OuRrHIw0s",
        "outputId": "d89bf421-5e59-4701-eb3e-959bf5638b40"
      },
      "execution_count": null,
      "outputs": [
        {
          "output_type": "execute_result",
          "data": {
            "text/html": [
              "<div>\n",
              "<style scoped>\n",
              "    .dataframe tbody tr th:only-of-type {\n",
              "        vertical-align: middle;\n",
              "    }\n",
              "\n",
              "    .dataframe tbody tr th {\n",
              "        vertical-align: top;\n",
              "    }\n",
              "\n",
              "    .dataframe thead th {\n",
              "        text-align: right;\n",
              "    }\n",
              "</style>\n",
              "<table border=\"1\" class=\"dataframe\">\n",
              "  <thead>\n",
              "    <tr style=\"text-align: right;\">\n",
              "      <th></th>\n",
              "      <th>Year</th>\n",
              "      <th>Month</th>\n",
              "      <th>Bridges and Tunnels: Total Traffic</th>\n",
              "    </tr>\n",
              "  </thead>\n",
              "  <tbody>\n",
              "    <tr>\n",
              "      <th>0</th>\n",
              "      <td>2021</td>\n",
              "      <td>12</td>\n",
              "      <td>865595</td>\n",
              "    </tr>\n",
              "    <tr>\n",
              "      <th>1</th>\n",
              "      <td>2021</td>\n",
              "      <td>12</td>\n",
              "      <td>818544</td>\n",
              "    </tr>\n",
              "    <tr>\n",
              "      <th>2</th>\n",
              "      <td>2021</td>\n",
              "      <td>12</td>\n",
              "      <td>864918</td>\n",
              "    </tr>\n",
              "    <tr>\n",
              "      <th>3</th>\n",
              "      <td>2021</td>\n",
              "      <td>12</td>\n",
              "      <td>940827</td>\n",
              "    </tr>\n",
              "    <tr>\n",
              "      <th>4</th>\n",
              "      <td>2021</td>\n",
              "      <td>12</td>\n",
              "      <td>923179</td>\n",
              "    </tr>\n",
              "    <tr>\n",
              "      <th>...</th>\n",
              "      <td>...</td>\n",
              "      <td>...</td>\n",
              "      <td>...</td>\n",
              "    </tr>\n",
              "    <tr>\n",
              "      <th>610</th>\n",
              "      <td>2020</td>\n",
              "      <td>4</td>\n",
              "      <td>209152</td>\n",
              "    </tr>\n",
              "    <tr>\n",
              "      <th>611</th>\n",
              "      <td>2020</td>\n",
              "      <td>4</td>\n",
              "      <td>243323</td>\n",
              "    </tr>\n",
              "    <tr>\n",
              "      <th>612</th>\n",
              "      <td>2020</td>\n",
              "      <td>4</td>\n",
              "      <td>340273</td>\n",
              "    </tr>\n",
              "    <tr>\n",
              "      <th>613</th>\n",
              "      <td>2020</td>\n",
              "      <td>4</td>\n",
              "      <td>339734</td>\n",
              "    </tr>\n",
              "    <tr>\n",
              "      <th>614</th>\n",
              "      <td>2020</td>\n",
              "      <td>4</td>\n",
              "      <td>342222</td>\n",
              "    </tr>\n",
              "  </tbody>\n",
              "</table>\n",
              "<p>614 rows × 3 columns</p>\n",
              "</div>"
            ],
            "text/plain": [
              "     Year  Month  Bridges and Tunnels: Total Traffic\n",
              "0    2021     12                              865595\n",
              "1    2021     12                              818544\n",
              "2    2021     12                              864918\n",
              "3    2021     12                              940827\n",
              "4    2021     12                              923179\n",
              "..    ...    ...                                 ...\n",
              "610  2020      4                              209152\n",
              "611  2020      4                              243323\n",
              "612  2020      4                              340273\n",
              "613  2020      4                              339734\n",
              "614  2020      4                              342222\n",
              "\n",
              "[614 rows x 3 columns]"
            ]
          },
          "metadata": {},
          "execution_count": 6
        }
      ]
    },
    {
      "cell_type": "code",
      "execution_count": null,
      "metadata": {
        "id": "yRLwitL2Kjaz"
      },
      "outputs": [],
      "source": [
        "# Splitting the MTA data into two datasets\n",
        "year_21 = MTA[MTA['Year'] == 2021]\n",
        "year_20 = MTA[MTA['Year'] == 2020]\n",
        "\n",
        "# Removing the December from the two datasets because we only have a 6 records from this month in the year 2021\n",
        "# and removing January and February because there is no records for these two months in year 2020\n",
        "year_21 = year_21[year_21['Month'] < 12]\n",
        "year_21 = year_21[year_21['Month'] > 2]\n",
        "year_20 = year_20[year_20['Month'] < 12]\n",
        "\n",
        "# Grouping the two datasets by the month\n",
        "year_21 = year_21.groupby('Month', as_index=False).agg({'Bridges and Tunnels: Total Traffic': 'sum'})\n",
        "year_20 = year_20.groupby('Month', as_index=False).agg({'Bridges and Tunnels: Total Traffic': 'sum'})"
      ]
    },
    {
      "cell_type": "code",
      "source": [
        "year_21.drop(axis=0, index=0, inplace=True)\n"
      ],
      "metadata": {
        "id": "VQqN0mQgNYUh"
      },
      "execution_count": null,
      "outputs": []
    },
    {
      "cell_type": "code",
      "execution_count": null,
      "metadata": {
        "id": "W7LteqBj_qvy"
      },
      "outputs": [],
      "source": [
        "##We can see that the difference between the total number of traffic in the months has decreased, which means that the increasing rate in traffic in 2021 is getting smaller."
      ]
    },
    {
      "cell_type": "code",
      "source": [
        "X_axis = year_20['Month'].values\n",
        "\n",
        "plt.bar(X_axis - 0.1, year_20['Bridges and Tunnels: Total Traffic'], width=0.15, label = '2020')\n",
        "plt.bar(X_axis + 0.1, year_21['Bridges and Tunnels: Total Traffic'], width=0.15, label = '2021')\n",
        "plt.xticks(X_axis)\n",
        "plt.xlabel('Months')\n",
        "plt.legend(['2020', '2021']);"
      ],
      "metadata": {
        "colab": {
          "base_uri": "https://localhost:8080/",
          "height": 290
        },
        "id": "cVuxuVOMI8cx",
        "outputId": "202edb11-d7c3-44c9-9332-60412ae8f8dd"
      },
      "execution_count": null,
      "outputs": [
        {
          "output_type": "display_data",
          "data": {
            "image/png": "[encoded data removed]",
            "text/plain": [
              "<Figure size 432x288 with 1 Axes>"
            ]
          },
          "metadata": {
            "needs_background": "light"
          }
        }
      ]
    },
    {
      "cell_type": "code",
      "source": [
        ""
      ],
      "metadata": {
        "id": "7t3UdHCEJG27"
      },
      "execution_count": null,
      "outputs": []
    },
    {
      "cell_type": "code",
      "source": [
        ""
      ],
      "metadata": {
        "id": "BKqIpLIRI8nF"
      },
      "execution_count": null,
      "outputs": []
    },
    {
      "cell_type": "markdown",
      "metadata": {
        "id": "MZCflFqm-GYA"
      },
      "source": [
        "### 6. Has the air pollution been reduced when bicycles were commonly used in the bridges areas? "
      ]
    },
    {
      "cell_type": "code",
      "source": [
        "AQ = pd.read_csv(r\"/content/drive/MyDrive/data/DumboAQ.csv\")\n",
        "AQ.head()"
      ],
      "metadata": {
        "id": "6B4CgYl7739d",
        "colab": {
          "base_uri": "https://localhost:8080/",
          "height": 206
        },
        "outputId": "34b555eb-965b-4f2f-d5ec-b90e42758afa"
      },
      "execution_count": null,
      "outputs": [
        {
          "output_type": "execute_result",
          "data": {
            "text/html": [
              "<div>\n",
              "<style scoped>\n",
              "    .dataframe tbody tr th:only-of-type {\n",
              "        vertical-align: middle;\n",
              "    }\n",
              "\n",
              "    .dataframe tbody tr th {\n",
              "        vertical-align: top;\n",
              "    }\n",
              "\n",
              "    .dataframe thead th {\n",
              "        text-align: right;\n",
              "    }\n",
              "</style>\n",
              "<table border=\"1\" class=\"dataframe\">\n",
              "  <thead>\n",
              "    <tr style=\"text-align: right;\">\n",
              "      <th></th>\n",
              "      <th>created_at</th>\n",
              "      <th>PM1.0_CF1_ug/m3</th>\n",
              "      <th>PM2.5_CF1_ug/m3</th>\n",
              "      <th>PM10.0_CF1_ug/m3</th>\n",
              "      <th>UptimeMinutes</th>\n",
              "      <th>RSSI_dbm</th>\n",
              "      <th>Temperature_F</th>\n",
              "      <th>Humidity_%</th>\n",
              "      <th>PM2.5_ATM_ug/m3</th>\n",
              "      <th>Unnamed: 9</th>\n",
              "    </tr>\n",
              "  </thead>\n",
              "  <tbody>\n",
              "    <tr>\n",
              "      <th>0</th>\n",
              "      <td>2020-11-12 16:00:00 UTC</td>\n",
              "      <td>23.53</td>\n",
              "      <td>84.32</td>\n",
              "      <td>136.49</td>\n",
              "      <td>7.33</td>\n",
              "      <td>-58.39</td>\n",
              "      <td>70.67</td>\n",
              "      <td>16.06</td>\n",
              "      <td>56.29</td>\n",
              "      <td>NaN</td>\n",
              "    </tr>\n",
              "    <tr>\n",
              "      <th>1</th>\n",
              "      <td>2020-11-12 17:00:00 UTC</td>\n",
              "      <td>159.03</td>\n",
              "      <td>403.64</td>\n",
              "      <td>547.14</td>\n",
              "      <td>39.00</td>\n",
              "      <td>-58.70</td>\n",
              "      <td>74.53</td>\n",
              "      <td>15.67</td>\n",
              "      <td>268.34</td>\n",
              "      <td>NaN</td>\n",
              "    </tr>\n",
              "    <tr>\n",
              "      <th>2</th>\n",
              "      <td>2020-11-12 18:00:00 UTC</td>\n",
              "      <td>49.76</td>\n",
              "      <td>103.07</td>\n",
              "      <td>123.13</td>\n",
              "      <td>99.00</td>\n",
              "      <td>-59.07</td>\n",
              "      <td>75.00</td>\n",
              "      <td>16.00</td>\n",
              "      <td>69.76</td>\n",
              "      <td>NaN</td>\n",
              "    </tr>\n",
              "    <tr>\n",
              "      <th>3</th>\n",
              "      <td>2020-11-12 19:00:00 UTC</td>\n",
              "      <td>12.91</td>\n",
              "      <td>26.38</td>\n",
              "      <td>29.99</td>\n",
              "      <td>159.00</td>\n",
              "      <td>-58.60</td>\n",
              "      <td>75.00</td>\n",
              "      <td>16.00</td>\n",
              "      <td>24.99</td>\n",
              "      <td>NaN</td>\n",
              "    </tr>\n",
              "    <tr>\n",
              "      <th>4</th>\n",
              "      <td>2020-11-12 20:00:00 UTC</td>\n",
              "      <td>4.13</td>\n",
              "      <td>8.42</td>\n",
              "      <td>9.91</td>\n",
              "      <td>206.00</td>\n",
              "      <td>-58.71</td>\n",
              "      <td>74.24</td>\n",
              "      <td>15.88</td>\n",
              "      <td>8.42</td>\n",
              "      <td>NaN</td>\n",
              "    </tr>\n",
              "  </tbody>\n",
              "</table>\n",
              "</div>"
            ],
            "text/plain": [
              "                created_at  PM1.0_CF1_ug/m3  ...  PM2.5_ATM_ug/m3  Unnamed: 9\n",
              "0  2020-11-12 16:00:00 UTC            23.53  ...            56.29         NaN\n",
              "1  2020-11-12 17:00:00 UTC           159.03  ...           268.34         NaN\n",
              "2  2020-11-12 18:00:00 UTC            49.76  ...            69.76         NaN\n",
              "3  2020-11-12 19:00:00 UTC            12.91  ...            24.99         NaN\n",
              "4  2020-11-12 20:00:00 UTC             4.13  ...             8.42         NaN\n",
              "\n",
              "[5 rows x 10 columns]"
            ]
          },
          "metadata": {},
          "execution_count": 16
        }
      ]
    },
    {
      "cell_type": "code",
      "source": [
        "AQ.columns=['created_at', 'PM1_0', 'PM2_5', 'PM10', 'UptimeMinutes', 'RSSI_dbm', 'Temperature_F', 'Humidity_%', 'PM2_5ATM', 'Unnamed']\n",
        "AQ.drop(columns='Unnamed', inplace=True)\n",
        "AQ.dropna(inplace=True)\n",
        "AQ"
      ],
      "metadata": {
        "colab": {
          "base_uri": "https://localhost:8080/",
          "height": 424
        },
        "id": "8CsQLiAe7_lY",
        "outputId": "09ebf315-a71a-4253-9e83-beb77d68a3b9"
      },
      "execution_count": null,
      "outputs": [
        {
          "output_type": "execute_result",
          "data": {
            "text/html": [
              "<div>\n",
              "<style scoped>\n",
              "    .dataframe tbody tr th:only-of-type {\n",
              "        vertical-align: middle;\n",
              "    }\n",
              "\n",
              "    .dataframe tbody tr th {\n",
              "        vertical-align: top;\n",
              "    }\n",
              "\n",
              "    .dataframe thead th {\n",
              "        text-align: right;\n",
              "    }\n",
              "</style>\n",
              "<table border=\"1\" class=\"dataframe\">\n",
              "  <thead>\n",
              "    <tr style=\"text-align: right;\">\n",
              "      <th></th>\n",
              "      <th>created_at</th>\n",
              "      <th>PM1_0</th>\n",
              "      <th>PM2_5</th>\n",
              "      <th>PM10</th>\n",
              "      <th>UptimeMinutes</th>\n",
              "      <th>RSSI_dbm</th>\n",
              "      <th>Temperature_F</th>\n",
              "      <th>Humidity_%</th>\n",
              "      <th>PM2_5ATM</th>\n",
              "    </tr>\n",
              "  </thead>\n",
              "  <tbody>\n",
              "    <tr>\n",
              "      <th>0</th>\n",
              "      <td>2020-11-12 16:00:00 UTC</td>\n",
              "      <td>23.53</td>\n",
              "      <td>84.32</td>\n",
              "      <td>136.49</td>\n",
              "      <td>7.33</td>\n",
              "      <td>-58.39</td>\n",
              "      <td>70.67</td>\n",
              "      <td>16.06</td>\n",
              "      <td>56.29</td>\n",
              "    </tr>\n",
              "    <tr>\n",
              "      <th>1</th>\n",
              "      <td>2020-11-12 17:00:00 UTC</td>\n",
              "      <td>159.03</td>\n",
              "      <td>403.64</td>\n",
              "      <td>547.14</td>\n",
              "      <td>39.00</td>\n",
              "      <td>-58.70</td>\n",
              "      <td>74.53</td>\n",
              "      <td>15.67</td>\n",
              "      <td>268.34</td>\n",
              "    </tr>\n",
              "    <tr>\n",
              "      <th>2</th>\n",
              "      <td>2020-11-12 18:00:00 UTC</td>\n",
              "      <td>49.76</td>\n",
              "      <td>103.07</td>\n",
              "      <td>123.13</td>\n",
              "      <td>99.00</td>\n",
              "      <td>-59.07</td>\n",
              "      <td>75.00</td>\n",
              "      <td>16.00</td>\n",
              "      <td>69.76</td>\n",
              "    </tr>\n",
              "    <tr>\n",
              "      <th>3</th>\n",
              "      <td>2020-11-12 19:00:00 UTC</td>\n",
              "      <td>12.91</td>\n",
              "      <td>26.38</td>\n",
              "      <td>29.99</td>\n",
              "      <td>159.00</td>\n",
              "      <td>-58.60</td>\n",
              "      <td>75.00</td>\n",
              "      <td>16.00</td>\n",
              "      <td>24.99</td>\n",
              "    </tr>\n",
              "    <tr>\n",
              "      <th>4</th>\n",
              "      <td>2020-11-12 20:00:00 UTC</td>\n",
              "      <td>4.13</td>\n",
              "      <td>8.42</td>\n",
              "      <td>9.91</td>\n",
              "      <td>206.00</td>\n",
              "      <td>-58.71</td>\n",
              "      <td>74.24</td>\n",
              "      <td>15.88</td>\n",
              "      <td>8.42</td>\n",
              "    </tr>\n",
              "    <tr>\n",
              "      <th>...</th>\n",
              "      <td>...</td>\n",
              "      <td>...</td>\n",
              "      <td>...</td>\n",
              "      <td>...</td>\n",
              "      <td>...</td>\n",
              "      <td>...</td>\n",
              "      <td>...</td>\n",
              "      <td>...</td>\n",
              "      <td>...</td>\n",
              "    </tr>\n",
              "    <tr>\n",
              "      <th>10285</th>\n",
              "      <td>2021-12-08 15:00:00 UTC</td>\n",
              "      <td>1.24</td>\n",
              "      <td>2.25</td>\n",
              "      <td>2.58</td>\n",
              "      <td>59318.00</td>\n",
              "      <td>-56.00</td>\n",
              "      <td>79.83</td>\n",
              "      <td>21.43</td>\n",
              "      <td>2.25</td>\n",
              "    </tr>\n",
              "    <tr>\n",
              "      <th>10286</th>\n",
              "      <td>2021-12-08 16:00:00 UTC</td>\n",
              "      <td>0.85</td>\n",
              "      <td>1.68</td>\n",
              "      <td>1.94</td>\n",
              "      <td>59378.00</td>\n",
              "      <td>-55.37</td>\n",
              "      <td>79.97</td>\n",
              "      <td>22.00</td>\n",
              "      <td>1.68</td>\n",
              "    </tr>\n",
              "    <tr>\n",
              "      <th>10287</th>\n",
              "      <td>2021-12-08 17:00:00 UTC</td>\n",
              "      <td>0.60</td>\n",
              "      <td>1.23</td>\n",
              "      <td>1.43</td>\n",
              "      <td>59438.00</td>\n",
              "      <td>-55.63</td>\n",
              "      <td>80.73</td>\n",
              "      <td>21.47</td>\n",
              "      <td>1.23</td>\n",
              "    </tr>\n",
              "    <tr>\n",
              "      <th>10288</th>\n",
              "      <td>2021-12-08 18:00:00 UTC</td>\n",
              "      <td>0.42</td>\n",
              "      <td>1.10</td>\n",
              "      <td>1.26</td>\n",
              "      <td>59498.00</td>\n",
              "      <td>-56.43</td>\n",
              "      <td>81.00</td>\n",
              "      <td>21.00</td>\n",
              "      <td>1.10</td>\n",
              "    </tr>\n",
              "    <tr>\n",
              "      <th>10289</th>\n",
              "      <td>2021-12-08 19:00:00 UTC</td>\n",
              "      <td>0.31</td>\n",
              "      <td>0.88</td>\n",
              "      <td>1.04</td>\n",
              "      <td>59549.00</td>\n",
              "      <td>-54.86</td>\n",
              "      <td>80.10</td>\n",
              "      <td>21.38</td>\n",
              "      <td>0.88</td>\n",
              "    </tr>\n",
              "  </tbody>\n",
              "</table>\n",
              "<p>10290 rows × 9 columns</p>\n",
              "</div>"
            ],
            "text/plain": [
              "                    created_at   PM1_0  ...  Humidity_%  PM2_5ATM\n",
              "0      2020-11-12 16:00:00 UTC   23.53  ...       16.06     56.29\n",
              "1      2020-11-12 17:00:00 UTC  159.03  ...       15.67    268.34\n",
              "2      2020-11-12 18:00:00 UTC   49.76  ...       16.00     69.76\n",
              "3      2020-11-12 19:00:00 UTC   12.91  ...       16.00     24.99\n",
              "4      2020-11-12 20:00:00 UTC    4.13  ...       15.88      8.42\n",
              "...                        ...     ...  ...         ...       ...\n",
              "10285  2021-12-08 15:00:00 UTC    1.24  ...       21.43      2.25\n",
              "10286  2021-12-08 16:00:00 UTC    0.85  ...       22.00      1.68\n",
              "10287  2021-12-08 17:00:00 UTC    0.60  ...       21.47      1.23\n",
              "10288  2021-12-08 18:00:00 UTC    0.42  ...       21.00      1.10\n",
              "10289  2021-12-08 19:00:00 UTC    0.31  ...       21.38      0.88\n",
              "\n",
              "[10290 rows x 9 columns]"
            ]
          },
          "metadata": {},
          "execution_count": 18
        }
      ]
    },
    {
      "cell_type": "code",
      "source": [
        "AQ['created_at']= pd.to_datetime(AQ['created_at'])\n",
        "AQ['created_at'] = AQ['created_at'].dt.tz_convert(None)"
      ],
      "metadata": {
        "id": "zUPQi5un8AOR"
      },
      "execution_count": null,
      "outputs": []
    },
    {
      "cell_type": "code",
      "source": [
        "AQ"
      ],
      "metadata": {
        "colab": {
          "base_uri": "https://localhost:8080/",
          "height": 424
        },
        "id": "n6XIHLLJ8Fqs",
        "outputId": "759874b1-751f-4973-d985-d889f71eff70"
      },
      "execution_count": null,
      "outputs": [
        {
          "output_type": "execute_result",
          "data": {
            "text/html": [
              "<div>\n",
              "<style scoped>\n",
              "    .dataframe tbody tr th:only-of-type {\n",
              "        vertical-align: middle;\n",
              "    }\n",
              "\n",
              "    .dataframe tbody tr th {\n",
              "        vertical-align: top;\n",
              "    }\n",
              "\n",
              "    .dataframe thead th {\n",
              "        text-align: right;\n",
              "    }\n",
              "</style>\n",
              "<table border=\"1\" class=\"dataframe\">\n",
              "  <thead>\n",
              "    <tr style=\"text-align: right;\">\n",
              "      <th></th>\n",
              "      <th>created_at</th>\n",
              "      <th>PM1_0</th>\n",
              "      <th>PM2_5</th>\n",
              "      <th>PM10</th>\n",
              "      <th>UptimeMinutes</th>\n",
              "      <th>RSSI_dbm</th>\n",
              "      <th>Temperature_F</th>\n",
              "      <th>Humidity_%</th>\n",
              "      <th>PM2_5ATM</th>\n",
              "    </tr>\n",
              "  </thead>\n",
              "  <tbody>\n",
              "    <tr>\n",
              "      <th>0</th>\n",
              "      <td>2020-11-12 16:00:00</td>\n",
              "      <td>23.53</td>\n",
              "      <td>84.32</td>\n",
              "      <td>136.49</td>\n",
              "      <td>7.33</td>\n",
              "      <td>-58.39</td>\n",
              "      <td>70.67</td>\n",
              "      <td>16.06</td>\n",
              "      <td>56.29</td>\n",
              "    </tr>\n",
              "    <tr>\n",
              "      <th>1</th>\n",
              "      <td>2020-11-12 17:00:00</td>\n",
              "      <td>159.03</td>\n",
              "      <td>403.64</td>\n",
              "      <td>547.14</td>\n",
              "      <td>39.00</td>\n",
              "      <td>-58.70</td>\n",
              "      <td>74.53</td>\n",
              "      <td>15.67</td>\n",
              "      <td>268.34</td>\n",
              "    </tr>\n",
              "    <tr>\n",
              "      <th>2</th>\n",
              "      <td>2020-11-12 18:00:00</td>\n",
              "      <td>49.76</td>\n",
              "      <td>103.07</td>\n",
              "      <td>123.13</td>\n",
              "      <td>99.00</td>\n",
              "      <td>-59.07</td>\n",
              "      <td>75.00</td>\n",
              "      <td>16.00</td>\n",
              "      <td>69.76</td>\n",
              "    </tr>\n",
              "    <tr>\n",
              "      <th>3</th>\n",
              "      <td>2020-11-12 19:00:00</td>\n",
              "      <td>12.91</td>\n",
              "      <td>26.38</td>\n",
              "      <td>29.99</td>\n",
              "      <td>159.00</td>\n",
              "      <td>-58.60</td>\n",
              "      <td>75.00</td>\n",
              "      <td>16.00</td>\n",
              "      <td>24.99</td>\n",
              "    </tr>\n",
              "    <tr>\n",
              "      <th>4</th>\n",
              "      <td>2020-11-12 20:00:00</td>\n",
              "      <td>4.13</td>\n",
              "      <td>8.42</td>\n",
              "      <td>9.91</td>\n",
              "      <td>206.00</td>\n",
              "      <td>-58.71</td>\n",
              "      <td>74.24</td>\n",
              "      <td>15.88</td>\n",
              "      <td>8.42</td>\n",
              "    </tr>\n",
              "    <tr>\n",
              "      <th>...</th>\n",
              "      <td>...</td>\n",
              "      <td>...</td>\n",
              "      <td>...</td>\n",
              "      <td>...</td>\n",
              "      <td>...</td>\n",
              "      <td>...</td>\n",
              "      <td>...</td>\n",
              "      <td>...</td>\n",
              "      <td>...</td>\n",
              "    </tr>\n",
              "    <tr>\n",
              "      <th>10285</th>\n",
              "      <td>2021-12-08 15:00:00</td>\n",
              "      <td>1.24</td>\n",
              "      <td>2.25</td>\n",
              "      <td>2.58</td>\n",
              "      <td>59318.00</td>\n",
              "      <td>-56.00</td>\n",
              "      <td>79.83</td>\n",
              "      <td>21.43</td>\n",
              "      <td>2.25</td>\n",
              "    </tr>\n",
              "    <tr>\n",
              "      <th>10286</th>\n",
              "      <td>2021-12-08 16:00:00</td>\n",
              "      <td>0.85</td>\n",
              "      <td>1.68</td>\n",
              "      <td>1.94</td>\n",
              "      <td>59378.00</td>\n",
              "      <td>-55.37</td>\n",
              "      <td>79.97</td>\n",
              "      <td>22.00</td>\n",
              "      <td>1.68</td>\n",
              "    </tr>\n",
              "    <tr>\n",
              "      <th>10287</th>\n",
              "      <td>2021-12-08 17:00:00</td>\n",
              "      <td>0.60</td>\n",
              "      <td>1.23</td>\n",
              "      <td>1.43</td>\n",
              "      <td>59438.00</td>\n",
              "      <td>-55.63</td>\n",
              "      <td>80.73</td>\n",
              "      <td>21.47</td>\n",
              "      <td>1.23</td>\n",
              "    </tr>\n",
              "    <tr>\n",
              "      <th>10288</th>\n",
              "      <td>2021-12-08 18:00:00</td>\n",
              "      <td>0.42</td>\n",
              "      <td>1.10</td>\n",
              "      <td>1.26</td>\n",
              "      <td>59498.00</td>\n",
              "      <td>-56.43</td>\n",
              "      <td>81.00</td>\n",
              "      <td>21.00</td>\n",
              "      <td>1.10</td>\n",
              "    </tr>\n",
              "    <tr>\n",
              "      <th>10289</th>\n",
              "      <td>2021-12-08 19:00:00</td>\n",
              "      <td>0.31</td>\n",
              "      <td>0.88</td>\n",
              "      <td>1.04</td>\n",
              "      <td>59549.00</td>\n",
              "      <td>-54.86</td>\n",
              "      <td>80.10</td>\n",
              "      <td>21.38</td>\n",
              "      <td>0.88</td>\n",
              "    </tr>\n",
              "  </tbody>\n",
              "</table>\n",
              "<p>10290 rows × 9 columns</p>\n",
              "</div>"
            ],
            "text/plain": [
              "               created_at   PM1_0   PM2_5  ...  Temperature_F  Humidity_%  PM2_5ATM\n",
              "0     2020-11-12 16:00:00   23.53   84.32  ...          70.67       16.06     56.29\n",
              "1     2020-11-12 17:00:00  159.03  403.64  ...          74.53       15.67    268.34\n",
              "2     2020-11-12 18:00:00   49.76  103.07  ...          75.00       16.00     69.76\n",
              "3     2020-11-12 19:00:00   12.91   26.38  ...          75.00       16.00     24.99\n",
              "4     2020-11-12 20:00:00    4.13    8.42  ...          74.24       15.88      8.42\n",
              "...                   ...     ...     ...  ...            ...         ...       ...\n",
              "10285 2021-12-08 15:00:00    1.24    2.25  ...          79.83       21.43      2.25\n",
              "10286 2021-12-08 16:00:00    0.85    1.68  ...          79.97       22.00      1.68\n",
              "10287 2021-12-08 17:00:00    0.60    1.23  ...          80.73       21.47      1.23\n",
              "10288 2021-12-08 18:00:00    0.42    1.10  ...          81.00       21.00      1.10\n",
              "10289 2021-12-08 19:00:00    0.31    0.88  ...          80.10       21.38      0.88\n",
              "\n",
              "[10290 rows x 9 columns]"
            ]
          },
          "metadata": {},
          "execution_count": 8
        }
      ]
    },
    {
      "cell_type": "code",
      "source": [
        "innauguration = pd.to_datetime('2021-9-14')\n",
        "before = AQ.loc[AQ['created_at']<innauguration]\n",
        "after = AQ.loc[AQ['created_at'] >= innauguration]"
      ],
      "metadata": {
        "id": "sUnk9pMM8GV6"
      },
      "execution_count": null,
      "outputs": []
    },
    {
      "cell_type": "code",
      "source": [
        "#introduce a custom function performing distribution analysis\n",
        "\n",
        "def distribution_analysis(x, log_scale = False, fit_distribution = 'None', bins = 50, vis_means = True, vis_curve = True, print_outputs = True):\n",
        "\n",
        "    #x - array of observations\n",
        "\n",
        "    #log_scale - analyze distribution of log(x) if True\n",
        "\n",
        "    #fit_distribution - fit the distribution ('normal', 'gev' or 'pareto') or do nothing if 'None'\n",
        "\n",
        "    #bins - how many bins to use for binning the data\n",
        "\n",
        "    #vis_means - show mean and std lines if True\n",
        "\n",
        "    #vis_curve - show interpolated distribution curve over the histogram bars if True\n",
        "\n",
        "    #print_outputs - print mean, std and percentiles\n",
        "\n",
        "    \n",
        "\n",
        "    if log_scale: \n",
        "\n",
        "        x1 = np.log10(x) #convert data to decimal logarithms\n",
        "\n",
        "        xlabel = 'log(values)' #reflect in x labels\n",
        "\n",
        "    else:\n",
        "\n",
        "        x1 = x #leave original scale \n",
        "\n",
        "        xlabel = 'PM 2.5 concentration (ug/mˆ3)'\n",
        "\n",
        "    mu = x1.mean() #compute the mean\n",
        "\n",
        "    if log_scale: #if logscale, output all three - log mean, its original scale and original scale mean\n",
        "\n",
        "        print('Log mean = {:.2f}({:.2f}), mean = {:.2f}'.format(mu,10**mu,x.mean()))\n",
        "\n",
        "    else:\n",
        "\n",
        "        print('Mean = {:.2f}'.format(mu)) #otherwise print mean\n",
        "\n",
        "    sigma = x1.std() #compute and output standard deviation \n",
        "\n",
        "    print('Standard deviation = {:.2f}'.format(sigma))\n",
        "\n",
        "    for p in [1,5,25,50,75,95,99]: #output percentile values\n",
        "\n",
        "        print('{:d} percentile = {:.2f}'.format(p,np.percentile(x,p)))\n",
        "\n",
        "        \n",
        "\n",
        "    #visualize histogram and the interpolated line (if vis_curve=True) using seaborn\n",
        "\n",
        "    sns.distplot(x1, hist=True, kde=vis_curve, \n",
        "\n",
        "        bins=bins,color = 'darkblue', \n",
        "\n",
        "        hist_kws={'edgecolor':'black'},\n",
        "\n",
        "        kde_kws={'linewidth': 4})\n",
        "\n",
        "    \n",
        "\n",
        "    #show vertical lines for mean and std if vis_means = True\n",
        "\n",
        "    if vis_means:\n",
        "\n",
        "        plt.axvline(mu, color='r', ls='--', lw=2.0)\n",
        "\n",
        "        plt.axvline(mu-sigma, color='g', ls='--', lw=2.0)\n",
        "\n",
        "        plt.axvline(mu+sigma, color='g', ls='--', lw=2.0)\n",
        "\n",
        "        \n",
        "\n",
        "    ylim = plt.gca().get_ylim() #keep the y-range of original distribution density values \n",
        "\n",
        "    #(to make sure the fitted distribution would not affect it)\n",
        "\n",
        "    \n",
        "\n",
        "    h = np.arange(mu - 3 * sigma, mu + 3 * sigma, sigma / 100) #3-sigma visualization range for the fitted distribution\n",
        "\n",
        "    pars = None #fitted distribution parameters\n",
        "\n",
        "    \n",
        "\n",
        "    #fit and visualize the theoretic distribution\n",
        "\n",
        "    if fit_distribution == 'normal':\n",
        "\n",
        "        pars = norm.fit(x1)\n",
        "\n",
        "        plt.plot(h,norm.pdf(h,*pars),'r')\n",
        "\n",
        "    elif fit_distribution == 'gev':\n",
        "\n",
        "        pars = gev.fit(x1)\n",
        "\n",
        "        plt.plot(h,gev.pdf(h,*pars),'r')\n",
        "\n",
        "    elif fit_distribution == 'pareto':\n",
        "\n",
        "        pars = pareto.fit(x1)\n",
        "\n",
        "        plt.plot(h,pareto.pdf(h,*pars),'r')\n",
        "\n",
        "    \n",
        "\n",
        "    plt.xlabel(xlabel) #add x label \n",
        "\n",
        "    plt.xlim(0 )\n",
        "\n",
        "    plt.ylim(ylim) #restore the y-range of original distribution density values \n",
        "\n",
        "    plt.show()\n",
        "\n",
        "    return pars"
      ],
      "metadata": {
        "id": "rbLubgwf8I2B"
      },
      "execution_count": null,
      "outputs": []
    },
    {
      "cell_type": "code",
      "source": [
        "distribution_analysis(before.PM2_5, bins=50, vis_means=False)\n",
        "distribution_analysis(after.PM2_5, bins=50, vis_means=False)"
      ],
      "metadata": {
        "colab": {
          "base_uri": "https://localhost:8080/",
          "height": 970
        },
        "id": "ngziu9EJ8OGf",
        "outputId": "52909061-189b-4ba1-d405-0c1be6c0ea77"
      },
      "execution_count": null,
      "outputs": [
        {
          "output_type": "stream",
          "name": "stdout",
          "text": [
            "Mean = 11.42\n",
            "Standard deviation = 14.63\n",
            "1 percentile = 0.02\n",
            "5 percentile = 0.19\n",
            "25 percentile = 2.08\n",
            "50 percentile = 6.72\n",
            "75 percentile = 16.87\n",
            "95 percentile = 35.39\n",
            "99 percentile = 52.19\n"
          ]
        },
        {
          "output_type": "stream",
          "name": "stderr",
          "text": [
            "/usr/local/lib/python3.7/dist-packages/seaborn/distributions.py:2619: FutureWarning: `distplot` is a deprecated function and will be removed in a future version. Please adapt your code to use either `displot` (a figure-level function with similar flexibility) or `histplot` (an axes-level function for histograms).\n",
            "  warnings.warn(msg, FutureWarning)\n"
          ]
        },
        {
          "output_type": "display_data",
          "data": {
            "image/png": "[encoded data removed]",
            "text/plain": [
              "<Figure size 432x288 with 1 Axes>"
            ]
          },
          "metadata": {
            "needs_background": "light"
          }
        },
        {
          "output_type": "stream",
          "name": "stdout",
          "text": [
            "Mean = 4.31\n",
            "Standard deviation = 13.88\n",
            "1 percentile = 0.01\n",
            "5 percentile = 0.04\n",
            "25 percentile = 0.42\n",
            "50 percentile = 1.40\n",
            "75 percentile = 3.60\n",
            "95 percentile = 14.27\n",
            "99 percentile = 53.50\n"
          ]
        },
        {
          "output_type": "stream",
          "name": "stderr",
          "text": [
            "/usr/local/lib/python3.7/dist-packages/seaborn/distributions.py:2619: FutureWarning: `distplot` is a deprecated function and will be removed in a future version. Please adapt your code to use either `displot` (a figure-level function with similar flexibility) or `histplot` (an axes-level function for histograms).\n",
            "  warnings.warn(msg, FutureWarning)\n"
          ]
        },
        {
          "output_type": "display_data",
          "data": {
            "image/png": "[encoded data removed]",
            "text/plain": [
              "<Figure size 432x288 with 1 Axes>"
            ]
          },
          "metadata": {
            "needs_background": "light"
          }
        }
      ]
    },
    {
      "cell_type": "code",
      "source": [
        "distribution_analysis(before.PM2_5, bins=50, vis_means=False, fit_distribution='pareto')\n",
        "distribution_analysis(after.PM2_5, bins=50, vis_means=False, fit_distribution='pareto')"
      ],
      "metadata": {
        "colab": {
          "base_uri": "https://localhost:8080/",
          "height": 1000
        },
        "id": "BKoGRebn8Rn3",
        "outputId": "d0ce86a1-ea49-4758-9444-8257f1fc3a28"
      },
      "execution_count": null,
      "outputs": [
        {
          "output_type": "stream",
          "name": "stdout",
          "text": [
            "Mean = 11.42\n",
            "Standard deviation = 14.63\n",
            "1 percentile = 0.02\n",
            "5 percentile = 0.19\n",
            "25 percentile = 2.08\n",
            "50 percentile = 6.72\n",
            "75 percentile = 16.87\n",
            "95 percentile = 35.39\n",
            "99 percentile = 52.19\n"
          ]
        },
        {
          "output_type": "stream",
          "name": "stderr",
          "text": [
            "/usr/local/lib/python3.7/dist-packages/seaborn/distributions.py:2619: FutureWarning: `distplot` is a deprecated function and will be removed in a future version. Please adapt your code to use either `displot` (a figure-level function with similar flexibility) or `histplot` (an axes-level function for histograms).\n",
            "  warnings.warn(msg, FutureWarning)\n",
            "/usr/local/lib/python3.7/dist-packages/scipy/stats/_distn_infrastructure.py:2407: RuntimeWarning: invalid value encountered in double_scalars\n",
            "  Lhat = muhat - Shat*mu\n"
          ]
        },
        {
          "output_type": "display_data",
          "data": {
            "image/png": "[encoded data removed]",
            "text/plain": [
              "<Figure size 432x288 with 1 Axes>"
            ]
          },
          "metadata": {
            "needs_background": "light"
          }
        },
        {
          "output_type": "stream",
          "name": "stdout",
          "text": [
            "Mean = 4.31\n",
            "Standard deviation = 13.88\n",
            "1 percentile = 0.01\n",
            "5 percentile = 0.04\n",
            "25 percentile = 0.42\n",
            "50 percentile = 1.40\n",
            "75 percentile = 3.60\n",
            "95 percentile = 14.27\n",
            "99 percentile = 53.50\n"
          ]
        },
        {
          "output_type": "stream",
          "name": "stderr",
          "text": [
            "/usr/local/lib/python3.7/dist-packages/seaborn/distributions.py:2619: FutureWarning: `distplot` is a deprecated function and will be removed in a future version. Please adapt your code to use either `displot` (a figure-level function with similar flexibility) or `histplot` (an axes-level function for histograms).\n",
            "  warnings.warn(msg, FutureWarning)\n",
            "/usr/local/lib/python3.7/dist-packages/scipy/stats/_distn_infrastructure.py:2407: RuntimeWarning: invalid value encountered in double_scalars\n",
            "  Lhat = muhat - Shat*mu\n"
          ]
        },
        {
          "output_type": "display_data",
          "data": {
            "image/png": "[encoded data removed]",
            "text/plain": [
              "<Figure size 432x288 with 1 Axes>"
            ]
          },
          "metadata": {
            "needs_background": "light"
          }
        },
        {
          "output_type": "execute_result",
          "data": {
            "text/plain": [
              "(1.116530281766786, -1.382056485916812, 1.3820564749866096)"
            ]
          },
          "metadata": {},
          "execution_count": 12
        }
      ]
    },
    {
      "cell_type": "code",
      "source": [
        "stats.ttest_ind(before['PM2_5'], after['PM2_5'])"
      ],
      "metadata": {
        "colab": {
          "base_uri": "https://localhost:8080/"
        },
        "id": "jjZ-TAkX8cLE",
        "outputId": "b83e81c1-d494-4bc7-e442-ac22e25b3063"
      },
      "execution_count": null,
      "outputs": [
        {
          "output_type": "execute_result",
          "data": {
            "text/plain": [
              "Ttest_indResult(statistic=22.279834347191336, pvalue=1.9638785204977817e-107)"
            ]
          },
          "metadata": {},
          "execution_count": 13
        }
      ]
    },
    {
      "cell_type": "code",
      "source": [
        "stats.ks_2samp(before['PM2_5'], after['PM2_5'])"
      ],
      "metadata": {
        "colab": {
          "base_uri": "https://localhost:8080/"
        },
        "id": "c3oZCWlK0Mn6",
        "outputId": "1a55e65b-8198-4abb-8b48-c65a428b8752"
      },
      "execution_count": null,
      "outputs": [
        {
          "output_type": "execute_result",
          "data": {
            "text/plain": [
              "Ks_2sampResult(statistic=0.4103138030743455, pvalue=9.932767485619254e-299)"
            ]
          },
          "metadata": {},
          "execution_count": 14
        }
      ]
    }
  ],
  "metadata": {
    "colab": {
      "collapsed_sections": [],
      "name": "PUI Final(codes).ipynb",
      "provenance": []
    },
    "kernelspec": {
      "display_name": "Python 3",
      "name": "python3"
    },
    "language_info": {
      "name": "python"
    }
  },
  "nbformat": 4,
  "nbformat_minor": 0
}